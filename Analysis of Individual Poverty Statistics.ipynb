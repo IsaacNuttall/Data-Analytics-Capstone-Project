{
 "cells": [
  {
   "cell_type": "code",
   "execution_count": 1,
   "id": "0f7ec3f3",
   "metadata": {},
   "outputs": [],
   "source": [
    "import pandas as pd\n",
    "import seaborn as sns\n",
    "import numpy as np\n",
    "sns.set()\n",
    "import matplotlib.pyplot as plt\n",
    "import statsmodels.api as sm\n",
    "%matplotlib inline"
   ]
  },
  {
   "cell_type": "code",
   "execution_count": 2,
   "id": "aa224da2",
   "metadata": {},
   "outputs": [],
   "source": [
    "raw_poverty_df = pd.read_csv('poverty_statistics.csv')\n",
    "\n",
    "raw_voter_df = pd.read_csv('voter_turnout.csv')\n",
    "\n",
    "raw_presidential_vs_midterm_df = pd.read_csv('presidential_vs_midterm.csv')\n",
    "\n",
    "raw_extra_poverty_statistics_df = pd.read_csv('extra_poverty_statistics.csv')"
   ]
  },
  {
   "cell_type": "code",
   "execution_count": 3,
   "id": "a3a41c24",
   "metadata": {},
   "outputs": [
    {
     "data": {
      "text/html": [
       "<div>\n",
       "<style scoped>\n",
       "    .dataframe tbody tr th:only-of-type {\n",
       "        vertical-align: middle;\n",
       "    }\n",
       "\n",
       "    .dataframe tbody tr th {\n",
       "        vertical-align: top;\n",
       "    }\n",
       "\n",
       "    .dataframe thead th {\n",
       "        text-align: right;\n",
       "    }\n",
       "</style>\n",
       "<table border=\"1\" class=\"dataframe\">\n",
       "  <thead>\n",
       "    <tr style=\"text-align: right;\">\n",
       "      <th></th>\n",
       "      <th>Year</th>\n",
       "      <th>Percent Change in People in Poverty Over the Next Two Years(%)</th>\n",
       "      <th>Unnamed: 2</th>\n",
       "      <th>Percent of people in poverty (%)</th>\n",
       "      <th>Unnamed: 4</th>\n",
       "      <th>Unnamed: 5</th>\n",
       "      <th>Comparison1</th>\n",
       "      <th>Under 18 years (%)</th>\n",
       "      <th>Unnamed: 8</th>\n",
       "      <th>Unnamed: 9</th>\n",
       "      <th>...</th>\n",
       "      <th>Female householder, no spouse present with children (%)</th>\n",
       "      <th>Unnamed: 19</th>\n",
       "      <th>Unnamed: 20</th>\n",
       "      <th>Unnamed: 21</th>\n",
       "      <th>Unnamed: 22</th>\n",
       "      <th>Unnamed: 23</th>\n",
       "      <th>Comparison4</th>\n",
       "      <th>White (%)</th>\n",
       "      <th>Unnamed: 26</th>\n",
       "      <th>Comparison5</th>\n",
       "    </tr>\n",
       "  </thead>\n",
       "  <tbody>\n",
       "    <tr>\n",
       "      <th>0</th>\n",
       "      <td>1960</td>\n",
       "      <td>-0.012</td>\n",
       "      <td>NaN</td>\n",
       "      <td>0.222</td>\n",
       "      <td>NaN</td>\n",
       "      <td>NaN</td>\n",
       "      <td>0.210</td>\n",
       "      <td>0.269</td>\n",
       "      <td>NaN</td>\n",
       "      <td>NaN</td>\n",
       "      <td>...</td>\n",
       "      <td>0.563</td>\n",
       "      <td>NaN</td>\n",
       "      <td>NaN</td>\n",
       "      <td>NaN</td>\n",
       "      <td>NaN</td>\n",
       "      <td>NaN</td>\n",
       "      <td>0.597</td>\n",
       "      <td>0.178</td>\n",
       "      <td>NaN</td>\n",
       "      <td>0.164</td>\n",
       "    </tr>\n",
       "    <tr>\n",
       "      <th>1</th>\n",
       "      <td>1962</td>\n",
       "      <td>-0.020</td>\n",
       "      <td>NaN</td>\n",
       "      <td>0.210</td>\n",
       "      <td>NaN</td>\n",
       "      <td>NaN</td>\n",
       "      <td>0.190</td>\n",
       "      <td>0.250</td>\n",
       "      <td>NaN</td>\n",
       "      <td>NaN</td>\n",
       "      <td>...</td>\n",
       "      <td>0.597</td>\n",
       "      <td>NaN</td>\n",
       "      <td>NaN</td>\n",
       "      <td>NaN</td>\n",
       "      <td>NaN</td>\n",
       "      <td>NaN</td>\n",
       "      <td>0.497</td>\n",
       "      <td>0.164</td>\n",
       "      <td>NaN</td>\n",
       "      <td>0.149</td>\n",
       "    </tr>\n",
       "    <tr>\n",
       "      <th>2</th>\n",
       "      <td>1964</td>\n",
       "      <td>-0.043</td>\n",
       "      <td>NaN</td>\n",
       "      <td>0.190</td>\n",
       "      <td>NaN</td>\n",
       "      <td>NaN</td>\n",
       "      <td>0.147</td>\n",
       "      <td>0.230</td>\n",
       "      <td>NaN</td>\n",
       "      <td>NaN</td>\n",
       "      <td>...</td>\n",
       "      <td>0.497</td>\n",
       "      <td>NaN</td>\n",
       "      <td>NaN</td>\n",
       "      <td>NaN</td>\n",
       "      <td>NaN</td>\n",
       "      <td>NaN</td>\n",
       "      <td>0.471</td>\n",
       "      <td>0.149</td>\n",
       "      <td>NaN</td>\n",
       "      <td>0.113</td>\n",
       "    </tr>\n",
       "    <tr>\n",
       "      <th>3</th>\n",
       "      <td>1966</td>\n",
       "      <td>-0.019</td>\n",
       "      <td>NaN</td>\n",
       "      <td>0.147</td>\n",
       "      <td>NaN</td>\n",
       "      <td>NaN</td>\n",
       "      <td>0.128</td>\n",
       "      <td>0.176</td>\n",
       "      <td>NaN</td>\n",
       "      <td>NaN</td>\n",
       "      <td>...</td>\n",
       "      <td>0.471</td>\n",
       "      <td>NaN</td>\n",
       "      <td>NaN</td>\n",
       "      <td>NaN</td>\n",
       "      <td>NaN</td>\n",
       "      <td>NaN</td>\n",
       "      <td>0.446</td>\n",
       "      <td>0.113</td>\n",
       "      <td>NaN</td>\n",
       "      <td>0.100</td>\n",
       "    </tr>\n",
       "    <tr>\n",
       "      <th>4</th>\n",
       "      <td>1968</td>\n",
       "      <td>-0.002</td>\n",
       "      <td>NaN</td>\n",
       "      <td>0.128</td>\n",
       "      <td>NaN</td>\n",
       "      <td>NaN</td>\n",
       "      <td>0.126</td>\n",
       "      <td>0.156</td>\n",
       "      <td>NaN</td>\n",
       "      <td>NaN</td>\n",
       "      <td>...</td>\n",
       "      <td>0.446</td>\n",
       "      <td>NaN</td>\n",
       "      <td>NaN</td>\n",
       "      <td>NaN</td>\n",
       "      <td>NaN</td>\n",
       "      <td>NaN</td>\n",
       "      <td>0.438</td>\n",
       "      <td>0.100</td>\n",
       "      <td>NaN</td>\n",
       "      <td>0.099</td>\n",
       "    </tr>\n",
       "  </tbody>\n",
       "</table>\n",
       "<p>5 rows × 28 columns</p>\n",
       "</div>"
      ],
      "text/plain": [
       "   Year  Percent Change in People in Poverty Over the Next Two Years(%)  \\\n",
       "0  1960                                             -0.012                \n",
       "1  1962                                             -0.020                \n",
       "2  1964                                             -0.043                \n",
       "3  1966                                             -0.019                \n",
       "4  1968                                             -0.002                \n",
       "\n",
       "   Unnamed: 2  Percent of people in poverty (%)  Unnamed: 4  Unnamed: 5  \\\n",
       "0         NaN                             0.222         NaN         NaN   \n",
       "1         NaN                             0.210         NaN         NaN   \n",
       "2         NaN                             0.190         NaN         NaN   \n",
       "3         NaN                             0.147         NaN         NaN   \n",
       "4         NaN                             0.128         NaN         NaN   \n",
       "\n",
       "   Comparison1          Under 18 years (%)  Unnamed: 8  Unnamed: 9  ...  \\\n",
       "0        0.210                       0.269         NaN         NaN  ...   \n",
       "1        0.190                       0.250         NaN         NaN  ...   \n",
       "2        0.147                       0.230         NaN         NaN  ...   \n",
       "3        0.128                       0.176         NaN         NaN  ...   \n",
       "4        0.126                       0.156         NaN         NaN  ...   \n",
       "\n",
       "           Female householder, no spouse present with children (%)  \\\n",
       "0                                              0.563                 \n",
       "1                                              0.597                 \n",
       "2                                              0.497                 \n",
       "3                                              0.471                 \n",
       "4                                              0.446                 \n",
       "\n",
       "   Unnamed: 19  Unnamed: 20  Unnamed: 21  Unnamed: 22  Unnamed: 23  \\\n",
       "0          NaN          NaN          NaN          NaN          NaN   \n",
       "1          NaN          NaN          NaN          NaN          NaN   \n",
       "2          NaN          NaN          NaN          NaN          NaN   \n",
       "3          NaN          NaN          NaN          NaN          NaN   \n",
       "4          NaN          NaN          NaN          NaN          NaN   \n",
       "\n",
       "   Comparison4          White (%)  Unnamed: 26  Comparison5  \n",
       "0        0.597              0.178          NaN        0.164  \n",
       "1        0.497              0.164          NaN        0.149  \n",
       "2        0.471              0.149          NaN        0.113  \n",
       "3        0.446              0.113          NaN        0.100  \n",
       "4        0.438              0.100          NaN        0.099  \n",
       "\n",
       "[5 rows x 28 columns]"
      ]
     },
     "execution_count": 3,
     "metadata": {},
     "output_type": "execute_result"
    }
   ],
   "source": [
    "raw_poverty_df.head()"
   ]
  },
  {
   "cell_type": "code",
   "execution_count": 4,
   "id": "3e6cd1d6",
   "metadata": {},
   "outputs": [
    {
     "name": "stdout",
     "output_type": "stream",
     "text": [
      "<class 'pandas.core.frame.DataFrame'>\n",
      "RangeIndex: 30 entries, 0 to 29\n",
      "Data columns (total 28 columns):\n",
      " #   Column                                                           Non-Null Count  Dtype  \n",
      "---  ------                                                           --------------  -----  \n",
      " 0   Year                                                             30 non-null     int64  \n",
      " 1   Percent Change in People in Poverty Over the Next Two Years(%)   30 non-null     float64\n",
      " 2   Unnamed: 2                                                       0 non-null      float64\n",
      " 3   Percent of people in poverty (%)                                 30 non-null     float64\n",
      " 4   Unnamed: 4                                                       0 non-null      float64\n",
      " 5   Unnamed: 5                                                       0 non-null      float64\n",
      " 6   Comparison1                                                      30 non-null     float64\n",
      " 7           Under 18 years (%)                                       30 non-null     float64\n",
      " 8   Unnamed: 8                                                       0 non-null      float64\n",
      " 9   Unnamed: 9                                                       0 non-null      float64\n",
      " 10  Comparison2                                                      30 non-null     float64\n",
      " 11          Persons not in families/Unrelated individuals (%)        30 non-null     float64\n",
      " 12  Unnamed: 12                                                      0 non-null      float64\n",
      " 13  Unnamed: 13                                                      0 non-null      float64\n",
      " 14  Unnamed: 14                                                      0 non-null      float64\n",
      " 15  Unnamed: 15                                                      0 non-null      float64\n",
      " 16  Unnamed: 16                                                      0 non-null      float64\n",
      " 17  Comparison3                                                      30 non-null     float64\n",
      " 18          Female householder, no spouse present with children (%)  30 non-null     float64\n",
      " 19  Unnamed: 19                                                      0 non-null      float64\n",
      " 20  Unnamed: 20                                                      0 non-null      float64\n",
      " 21  Unnamed: 21                                                      0 non-null      float64\n",
      " 22  Unnamed: 22                                                      0 non-null      float64\n",
      " 23  Unnamed: 23                                                      0 non-null      float64\n",
      " 24  Comparison4                                                      30 non-null     float64\n",
      " 25          White (%)                                                30 non-null     float64\n",
      " 26  Unnamed: 26                                                      0 non-null      float64\n",
      " 27  Comparison5                                                      30 non-null     float64\n",
      "dtypes: float64(27), int64(1)\n",
      "memory usage: 6.7 KB\n"
     ]
    }
   ],
   "source": [
    "raw_poverty_df.info()"
   ]
  },
  {
   "cell_type": "code",
   "execution_count": 5,
   "id": "4f4077d2",
   "metadata": {},
   "outputs": [
    {
     "data": {
      "text/html": [
       "<div>\n",
       "<style scoped>\n",
       "    .dataframe tbody tr th:only-of-type {\n",
       "        vertical-align: middle;\n",
       "    }\n",
       "\n",
       "    .dataframe tbody tr th {\n",
       "        vertical-align: top;\n",
       "    }\n",
       "\n",
       "    .dataframe thead th {\n",
       "        text-align: right;\n",
       "    }\n",
       "</style>\n",
       "<table border=\"1\" class=\"dataframe\">\n",
       "  <thead>\n",
       "    <tr style=\"text-align: right;\">\n",
       "      <th></th>\n",
       "      <th>Years</th>\n",
       "      <th>18 to 64 years (%)</th>\n",
       "      <th>65+ years (%)</th>\n",
       "      <th>Married couple families without children (%)</th>\n",
       "      <th>Married couple families with children (%)</th>\n",
       "      <th>Persons not in families/Unrelated individuals (%)</th>\n",
       "      <th>Male householder, no spouse present with children (%)</th>\n",
       "      <th>Female householder, no spouse present with children (%)</th>\n",
       "      <th>White (%)</th>\n",
       "      <th>Black (%)</th>\n",
       "      <th>...</th>\n",
       "      <th>South Dakota (%)</th>\n",
       "      <th>Tennessee (%)</th>\n",
       "      <th>Texas (%)</th>\n",
       "      <th>Utah (%)</th>\n",
       "      <th>Vermont (%)</th>\n",
       "      <th>Virginia (%)</th>\n",
       "      <th>Washington (%)</th>\n",
       "      <th>West Virginia (%)</th>\n",
       "      <th>Wisconsin (%)</th>\n",
       "      <th>Wyoming (%)</th>\n",
       "    </tr>\n",
       "  </thead>\n",
       "  <tbody>\n",
       "    <tr>\n",
       "      <th>0</th>\n",
       "      <td>1980</td>\n",
       "      <td>0.101</td>\n",
       "      <td>0.157</td>\n",
       "      <td>0.045</td>\n",
       "      <td>0.077</td>\n",
       "      <td>0.086</td>\n",
       "      <td>0.180</td>\n",
       "      <td>0.429</td>\n",
       "      <td>0.102</td>\n",
       "      <td>0.325</td>\n",
       "      <td>...</td>\n",
       "      <td>0.188</td>\n",
       "      <td>0.196</td>\n",
       "      <td>0.157</td>\n",
       "      <td>0.100</td>\n",
       "      <td>0.120</td>\n",
       "      <td>0.124</td>\n",
       "      <td>0.127</td>\n",
       "      <td>0.152</td>\n",
       "      <td>0.085</td>\n",
       "      <td>0.104</td>\n",
       "    </tr>\n",
       "    <tr>\n",
       "      <th>1</th>\n",
       "      <td>1982</td>\n",
       "      <td>0.120</td>\n",
       "      <td>0.146</td>\n",
       "      <td>0.054</td>\n",
       "      <td>0.098</td>\n",
       "      <td>0.115</td>\n",
       "      <td>0.206</td>\n",
       "      <td>0.478</td>\n",
       "      <td>0.120</td>\n",
       "      <td>0.356</td>\n",
       "      <td>...</td>\n",
       "      <td>0.168</td>\n",
       "      <td>0.236</td>\n",
       "      <td>0.162</td>\n",
       "      <td>0.145</td>\n",
       "      <td>0.129</td>\n",
       "      <td>0.125</td>\n",
       "      <td>0.129</td>\n",
       "      <td>0.248</td>\n",
       "      <td>0.095</td>\n",
       "      <td>0.120</td>\n",
       "    </tr>\n",
       "    <tr>\n",
       "      <th>2</th>\n",
       "      <td>1984</td>\n",
       "      <td>0.117</td>\n",
       "      <td>0.124</td>\n",
       "      <td>0.045</td>\n",
       "      <td>0.094</td>\n",
       "      <td>0.106</td>\n",
       "      <td>0.181</td>\n",
       "      <td>0.457</td>\n",
       "      <td>0.115</td>\n",
       "      <td>0.338</td>\n",
       "      <td>...</td>\n",
       "      <td>0.145</td>\n",
       "      <td>0.174</td>\n",
       "      <td>0.157</td>\n",
       "      <td>0.111</td>\n",
       "      <td>0.126</td>\n",
       "      <td>0.100</td>\n",
       "      <td>0.113</td>\n",
       "      <td>0.204</td>\n",
       "      <td>0.155</td>\n",
       "      <td>0.109</td>\n",
       "    </tr>\n",
       "    <tr>\n",
       "      <th>3</th>\n",
       "      <td>1986</td>\n",
       "      <td>0.108</td>\n",
       "      <td>0.124</td>\n",
       "      <td>0.041</td>\n",
       "      <td>0.080</td>\n",
       "      <td>0.092</td>\n",
       "      <td>0.178</td>\n",
       "      <td>0.460</td>\n",
       "      <td>0.110</td>\n",
       "      <td>0.311</td>\n",
       "      <td>...</td>\n",
       "      <td>0.170</td>\n",
       "      <td>0.183</td>\n",
       "      <td>0.173</td>\n",
       "      <td>0.126</td>\n",
       "      <td>0.110</td>\n",
       "      <td>0.097</td>\n",
       "      <td>0.129</td>\n",
       "      <td>0.224</td>\n",
       "      <td>0.107</td>\n",
       "      <td>0.146</td>\n",
       "    </tr>\n",
       "    <tr>\n",
       "      <th>4</th>\n",
       "      <td>1988</td>\n",
       "      <td>0.105</td>\n",
       "      <td>0.120</td>\n",
       "      <td>0.040</td>\n",
       "      <td>0.072</td>\n",
       "      <td>0.089</td>\n",
       "      <td>0.180</td>\n",
       "      <td>0.447</td>\n",
       "      <td>0.101</td>\n",
       "      <td>0.313</td>\n",
       "      <td>...</td>\n",
       "      <td>0.142</td>\n",
       "      <td>0.180</td>\n",
       "      <td>0.180</td>\n",
       "      <td>0.098</td>\n",
       "      <td>0.081</td>\n",
       "      <td>0.108</td>\n",
       "      <td>0.087</td>\n",
       "      <td>0.179</td>\n",
       "      <td>0.078</td>\n",
       "      <td>0.096</td>\n",
       "    </tr>\n",
       "  </tbody>\n",
       "</table>\n",
       "<p>5 rows × 67 columns</p>\n",
       "</div>"
      ],
      "text/plain": [
       "   Years          18 to 64 years (%)          65+ years (%)  \\\n",
       "0   1980                       0.101                  0.157   \n",
       "1   1982                       0.120                  0.146   \n",
       "2   1984                       0.117                  0.124   \n",
       "3   1986                       0.108                  0.124   \n",
       "4   1988                       0.105                  0.120   \n",
       "\n",
       "           Married couple families without children (%)  \\\n",
       "0                                              0.045      \n",
       "1                                              0.054      \n",
       "2                                              0.045      \n",
       "3                                              0.041      \n",
       "4                                              0.040      \n",
       "\n",
       "           Married couple families with children (%)  \\\n",
       "0                                              0.077   \n",
       "1                                              0.098   \n",
       "2                                              0.094   \n",
       "3                                              0.080   \n",
       "4                                              0.072   \n",
       "\n",
       "           Persons not in families/Unrelated individuals (%)  \\\n",
       "0                                              0.086           \n",
       "1                                              0.115           \n",
       "2                                              0.106           \n",
       "3                                              0.092           \n",
       "4                                              0.089           \n",
       "\n",
       "           Male householder, no spouse present with children (%)  \\\n",
       "0                                              0.180               \n",
       "1                                              0.206               \n",
       "2                                              0.181               \n",
       "3                                              0.178               \n",
       "4                                              0.180               \n",
       "\n",
       "           Female householder, no spouse present with children (%)  \\\n",
       "0                                              0.429                 \n",
       "1                                              0.478                 \n",
       "2                                              0.457                 \n",
       "3                                              0.460                 \n",
       "4                                              0.447                 \n",
       "\n",
       "           White (%)          Black (%)  ...          South Dakota (%)  \\\n",
       "0              0.102              0.325  ...                     0.188   \n",
       "1              0.120              0.356  ...                     0.168   \n",
       "2              0.115              0.338  ...                     0.145   \n",
       "3              0.110              0.311  ...                     0.170   \n",
       "4              0.101              0.313  ...                     0.142   \n",
       "\n",
       "           Tennessee (%)          Texas (%)          Utah (%)  \\\n",
       "0                  0.196              0.157             0.100   \n",
       "1                  0.236              0.162             0.145   \n",
       "2                  0.174              0.157             0.111   \n",
       "3                  0.183              0.173             0.126   \n",
       "4                  0.180              0.180             0.098   \n",
       "\n",
       "           Vermont (%)          Virginia (%)          Washington (%)  \\\n",
       "0                0.120                 0.124                   0.127   \n",
       "1                0.129                 0.125                   0.129   \n",
       "2                0.126                 0.100                   0.113   \n",
       "3                0.110                 0.097                   0.129   \n",
       "4                0.081                 0.108                   0.087   \n",
       "\n",
       "           West Virginia (%)          Wisconsin (%)          Wyoming (%)  \n",
       "0                      0.152                  0.085                0.104  \n",
       "1                      0.248                  0.095                0.120  \n",
       "2                      0.204                  0.155                0.109  \n",
       "3                      0.224                  0.107                0.146  \n",
       "4                      0.179                  0.078                0.096  \n",
       "\n",
       "[5 rows x 67 columns]"
      ]
     },
     "execution_count": 5,
     "metadata": {},
     "output_type": "execute_result"
    }
   ],
   "source": [
    "raw_extra_poverty_statistics_df.head()"
   ]
  },
  {
   "cell_type": "code",
   "execution_count": 6,
   "id": "17eeb00d",
   "metadata": {},
   "outputs": [
    {
     "name": "stdout",
     "output_type": "stream",
     "text": [
      "<class 'pandas.core.frame.DataFrame'>\n",
      "RangeIndex: 20 entries, 0 to 19\n",
      "Data columns (total 67 columns):\n",
      " #   Column                                                           Non-Null Count  Dtype  \n",
      "---  ------                                                           --------------  -----  \n",
      " 0   Years                                                            20 non-null     int64  \n",
      " 1           18 to 64 years (%)                                       20 non-null     float64\n",
      " 2           65+ years (%)                                            20 non-null     float64\n",
      " 3           Married couple families without children (%)             20 non-null     float64\n",
      " 4           Married couple families with children (%)                20 non-null     float64\n",
      " 5           Persons not in families/Unrelated individuals (%)        20 non-null     float64\n",
      " 6           Male householder, no spouse present with children (%)    20 non-null     float64\n",
      " 7           Female householder, no spouse present with children (%)  20 non-null     float64\n",
      " 8           White (%)                                                20 non-null     float64\n",
      " 9           Black (%)                                                20 non-null     float64\n",
      " 10          Hispanic (%)                                             20 non-null     float64\n",
      " 11          White, non-Hispanic (%)                                  20 non-null     float64\n",
      " 12          Northeast (%)                                            20 non-null     float64\n",
      " 13          West (%)                                                 20 non-null     float64\n",
      " 14          South (%)                                                20 non-null     float64\n",
      " 15          Midwest (%)                                              20 non-null     float64\n",
      " 16          Alabama (%)                                              20 non-null     float64\n",
      " 17          Alaska (%)                                               20 non-null     float64\n",
      " 18          Arizona (%)                                              20 non-null     float64\n",
      " 19          Arkansas (%)                                             20 non-null     float64\n",
      " 20          California (%)                                           20 non-null     float64\n",
      " 21          Colorado (%)                                             20 non-null     float64\n",
      " 22          Connecticut (%)                                          20 non-null     float64\n",
      " 23          Delaware (%)                                             20 non-null     float64\n",
      " 24          District of Columbia (%)                                 20 non-null     float64\n",
      " 25          Florida (%)                                              20 non-null     float64\n",
      " 26          Georgia (%)                                              20 non-null     float64\n",
      " 27          Hawaii (%)                                               20 non-null     float64\n",
      " 28          Idaho (%)                                                20 non-null     float64\n",
      " 29          Illinois (%)                                             20 non-null     float64\n",
      " 30          Indiana (%)                                              20 non-null     float64\n",
      " 31          Iowa (%)                                                 20 non-null     float64\n",
      " 32          Kansas (%)                                               20 non-null     float64\n",
      " 33          Kentucky (%)                                             20 non-null     float64\n",
      " 34          Louisiana (%)                                            20 non-null     float64\n",
      " 35          Maine (%)                                                20 non-null     float64\n",
      " 36          Maryland (%)                                             20 non-null     float64\n",
      " 37          Massachusetts (%)                                        20 non-null     float64\n",
      " 38          Michigan (%)                                             20 non-null     float64\n",
      " 39          Minnesota (%)                                            20 non-null     float64\n",
      " 40          Mississippi (%)                                          20 non-null     float64\n",
      " 41          Missouri (%)                                             20 non-null     float64\n",
      " 42          Montana (%)                                              20 non-null     float64\n",
      " 43          Nebraska (%)                                             20 non-null     float64\n",
      " 44          Nevada (%)                                               20 non-null     float64\n",
      " 45          New Hampshire (%)                                        20 non-null     float64\n",
      " 46          New Jersey (%)                                           20 non-null     float64\n",
      " 47          New Mexico (%)                                           20 non-null     float64\n",
      " 48          New York (%)                                             20 non-null     float64\n",
      " 49          North Carolina (%)                                       20 non-null     float64\n",
      " 50          North Dakota (%)                                         20 non-null     float64\n",
      " 51          Ohio (%)                                                 20 non-null     float64\n",
      " 52          Oklahoma (%)                                             20 non-null     float64\n",
      " 53          Oregon (%)                                               20 non-null     float64\n",
      " 54          Pennsylvania (%)                                         20 non-null     float64\n",
      " 55          Rhode Island (%)                                         20 non-null     float64\n",
      " 56          South Carolina (%)                                       20 non-null     float64\n",
      " 57          South Dakota (%)                                         20 non-null     float64\n",
      " 58          Tennessee (%)                                            20 non-null     float64\n",
      " 59          Texas (%)                                                20 non-null     float64\n",
      " 60          Utah (%)                                                 20 non-null     float64\n",
      " 61          Vermont (%)                                              20 non-null     float64\n",
      " 62          Virginia (%)                                             20 non-null     float64\n",
      " 63          Washington (%)                                           20 non-null     float64\n",
      " 64          West Virginia (%)                                        20 non-null     float64\n",
      " 65          Wisconsin (%)                                            20 non-null     float64\n",
      " 66          Wyoming (%)                                              20 non-null     float64\n",
      "dtypes: float64(66), int64(1)\n",
      "memory usage: 10.6 KB\n"
     ]
    }
   ],
   "source": [
    "raw_extra_poverty_statistics_df.info()"
   ]
  },
  {
   "cell_type": "code",
   "execution_count": 7,
   "id": "7a9dbae2",
   "metadata": {},
   "outputs": [],
   "source": [
    "poverty_df = raw_poverty_df.copy()\n",
    "\n",
    "voter_df = raw_voter_df.copy()\n",
    "\n",
    "presidential_vs_midterm_df = raw_presidential_vs_midterm_df.copy()\n",
    "\n",
    "extra_poverty_stats_df = raw_extra_poverty_statistics_df.copy()"
   ]
  },
  {
   "cell_type": "code",
   "execution_count": 8,
   "id": "d5d9413a",
   "metadata": {},
   "outputs": [],
   "source": [
    "import regex as re\n",
    "\n",
    "poverty_list = poverty_df.columns.to_list()\n",
    "poverty_columns = []\n",
    "\n",
    "for column in poverty_list:\n",
    "    column = column.replace(\" \", \"_\")\n",
    "    \n",
    "    poverty_columns.append(column)\n",
    "    \n",
    "voter_list = voter_df.columns.to_list()\n",
    "voter_columns = []\n",
    "\n",
    "for column in voter_list:\n",
    "    column = column.replace(\" \", \"_\")\n",
    "    \n",
    "    voter_columns.append(column)\n",
    "    \n",
    "presidential_vs_midterm_list = presidential_vs_midterm_df.columns.to_list()\n",
    "presidential_vs_midterm_columns = []\n",
    "\n",
    "for column in presidential_vs_midterm_list:\n",
    "    column = column.replace(\" \", \"_\")\n",
    "    \n",
    "    presidential_vs_midterm_columns.append(column)\n",
    "    \n",
    "extra_poverty_stats_list = extra_poverty_stats_df.columns.to_list()\n",
    "extra_poverty_stats_columns = []\n",
    "\n",
    "for column in extra_poverty_stats_list:\n",
    "    column = column.replace(\" \", \"_\")\n",
    "    \n",
    "    extra_poverty_stats_columns.append(column)\n",
    "    \n",
    "extra_poverty_stats_df.columns = extra_poverty_stats_columns\n",
    "poverty_df.columns = poverty_columns\n",
    "voter_df.columns = voter_columns\n",
    "presidential_vs_midterm_df.columns = presidential_vs_midterm_columns"
   ]
  },
  {
   "cell_type": "code",
   "execution_count": 9,
   "id": "987df2a6",
   "metadata": {},
   "outputs": [
    {
     "name": "stdout",
     "output_type": "stream",
     "text": [
      "<class 'pandas.core.frame.DataFrame'>\n",
      "RangeIndex: 30 entries, 0 to 29\n",
      "Data columns (total 28 columns):\n",
      " #   Column                                                           Non-Null Count  Dtype  \n",
      "---  ------                                                           --------------  -----  \n",
      " 0   Year                                                             30 non-null     int64  \n",
      " 1   Percent_Change_in_People_in_Poverty_Over_the_Next_Two_Years(%)   30 non-null     float64\n",
      " 2   Unnamed:_2                                                       0 non-null      float64\n",
      " 3   Percent_of_people_in_poverty_(%)                                 30 non-null     float64\n",
      " 4   Unnamed:_4                                                       0 non-null      float64\n",
      " 5   Unnamed:_5                                                       0 non-null      float64\n",
      " 6   Comparison1                                                      30 non-null     float64\n",
      " 7   ________Under_18_years_(%)                                       30 non-null     float64\n",
      " 8   Unnamed:_8                                                       0 non-null      float64\n",
      " 9   Unnamed:_9                                                       0 non-null      float64\n",
      " 10  Comparison2                                                      30 non-null     float64\n",
      " 11  ________Persons_not_in_families/Unrelated_individuals_(%)        30 non-null     float64\n",
      " 12  Unnamed:_12                                                      0 non-null      float64\n",
      " 13  Unnamed:_13                                                      0 non-null      float64\n",
      " 14  Unnamed:_14                                                      0 non-null      float64\n",
      " 15  Unnamed:_15                                                      0 non-null      float64\n",
      " 16  Unnamed:_16                                                      0 non-null      float64\n",
      " 17  Comparison3                                                      30 non-null     float64\n",
      " 18  ________Female_householder,_no_spouse_present_with_children_(%)  30 non-null     float64\n",
      " 19  Unnamed:_19                                                      0 non-null      float64\n",
      " 20  Unnamed:_20                                                      0 non-null      float64\n",
      " 21  Unnamed:_21                                                      0 non-null      float64\n",
      " 22  Unnamed:_22                                                      0 non-null      float64\n",
      " 23  Unnamed:_23                                                      0 non-null      float64\n",
      " 24  Comparison4                                                      30 non-null     float64\n",
      " 25  ________White_(%)                                                30 non-null     float64\n",
      " 26  Unnamed:_26                                                      0 non-null      float64\n",
      " 27  Comparison5                                                      30 non-null     float64\n",
      "dtypes: float64(27), int64(1)\n",
      "memory usage: 6.7 KB\n"
     ]
    }
   ],
   "source": [
    "poverty_df.info()"
   ]
  },
  {
   "cell_type": "code",
   "execution_count": 10,
   "id": "ee7e7666",
   "metadata": {},
   "outputs": [],
   "source": [
    "poverty_df.drop(columns=['Unnamed:_2'], inplace=True)"
   ]
  },
  {
   "cell_type": "code",
   "execution_count": 11,
   "id": "10bbcd04",
   "metadata": {},
   "outputs": [],
   "source": [
    "poverty_df.drop(columns=['Comparison1'], inplace=True)"
   ]
  },
  {
   "cell_type": "code",
   "execution_count": 12,
   "id": "ac43c95b",
   "metadata": {},
   "outputs": [],
   "source": [
    "poverty_df.drop(columns=['Unnamed:_8'], inplace=True)"
   ]
  },
  {
   "cell_type": "code",
   "execution_count": 13,
   "id": "cc91c9a0",
   "metadata": {},
   "outputs": [],
   "source": [
    "poverty_df.drop(columns=['Unnamed:_9'], inplace=True)"
   ]
  },
  {
   "cell_type": "code",
   "execution_count": 14,
   "id": "368c6d5e",
   "metadata": {},
   "outputs": [],
   "source": [
    "poverty_df.drop(columns=['Comparison2'], inplace=True)"
   ]
  },
  {
   "cell_type": "code",
   "execution_count": 15,
   "id": "7e4ab4d8",
   "metadata": {},
   "outputs": [],
   "source": [
    "poverty_df.drop(columns=['Unnamed:_12'], inplace=True)"
   ]
  },
  {
   "cell_type": "code",
   "execution_count": 16,
   "id": "03817663",
   "metadata": {},
   "outputs": [],
   "source": [
    "poverty_df.drop(columns=['Unnamed:_13'], inplace=True)"
   ]
  },
  {
   "cell_type": "code",
   "execution_count": 17,
   "id": "4238d154",
   "metadata": {},
   "outputs": [],
   "source": [
    "poverty_df.drop(columns=['Unnamed:_14'], inplace=True)"
   ]
  },
  {
   "cell_type": "code",
   "execution_count": 18,
   "id": "48fe5b44",
   "metadata": {},
   "outputs": [],
   "source": [
    "poverty_df.drop(columns=['Unnamed:_15'], inplace=True)"
   ]
  },
  {
   "cell_type": "code",
   "execution_count": 19,
   "id": "9478dcc8",
   "metadata": {},
   "outputs": [],
   "source": [
    "poverty_df.drop(columns=['Unnamed:_16'], inplace=True)"
   ]
  },
  {
   "cell_type": "code",
   "execution_count": 20,
   "id": "4705d8ae",
   "metadata": {},
   "outputs": [],
   "source": [
    "poverty_df.drop(columns=['Comparison3'], inplace=True)"
   ]
  },
  {
   "cell_type": "code",
   "execution_count": 21,
   "id": "9b79dbcb",
   "metadata": {},
   "outputs": [],
   "source": [
    "poverty_df.drop(columns=['Unnamed:_19'], inplace=True)"
   ]
  },
  {
   "cell_type": "code",
   "execution_count": 22,
   "id": "87ce1fb1",
   "metadata": {},
   "outputs": [],
   "source": [
    "poverty_df.drop(columns=['Unnamed:_20'], inplace=True)"
   ]
  },
  {
   "cell_type": "code",
   "execution_count": 23,
   "id": "e5280a53",
   "metadata": {},
   "outputs": [],
   "source": [
    "poverty_df.drop(columns=['Unnamed:_21'], inplace=True)"
   ]
  },
  {
   "cell_type": "code",
   "execution_count": 24,
   "id": "0644add6",
   "metadata": {},
   "outputs": [],
   "source": [
    "poverty_df.drop(columns=['Unnamed:_22'], inplace=True)"
   ]
  },
  {
   "cell_type": "code",
   "execution_count": 25,
   "id": "63da2f12",
   "metadata": {},
   "outputs": [],
   "source": [
    "poverty_df.drop(columns=['Unnamed:_23'], inplace=True)"
   ]
  },
  {
   "cell_type": "code",
   "execution_count": 26,
   "id": "6e87b98b",
   "metadata": {},
   "outputs": [],
   "source": [
    "poverty_df.drop(columns=['Comparison4'], inplace=True)"
   ]
  },
  {
   "cell_type": "code",
   "execution_count": 27,
   "id": "35e6bb99",
   "metadata": {},
   "outputs": [],
   "source": [
    "poverty_df.drop(columns=['Unnamed:_26'], inplace=True)"
   ]
  },
  {
   "cell_type": "code",
   "execution_count": 28,
   "id": "374abbaa",
   "metadata": {},
   "outputs": [],
   "source": [
    "poverty_df.drop(columns=['Comparison5'], inplace=True)"
   ]
  },
  {
   "cell_type": "code",
   "execution_count": 29,
   "id": "6ff37370",
   "metadata": {},
   "outputs": [
    {
     "name": "stdout",
     "output_type": "stream",
     "text": [
      "<class 'pandas.core.frame.DataFrame'>\n",
      "RangeIndex: 30 entries, 0 to 29\n",
      "Data columns (total 9 columns):\n",
      " #   Column                                                           Non-Null Count  Dtype  \n",
      "---  ------                                                           --------------  -----  \n",
      " 0   Year                                                             30 non-null     int64  \n",
      " 1   Percent_Change_in_People_in_Poverty_Over_the_Next_Two_Years(%)   30 non-null     float64\n",
      " 2   Percent_of_people_in_poverty_(%)                                 30 non-null     float64\n",
      " 3   Unnamed:_4                                                       0 non-null      float64\n",
      " 4   Unnamed:_5                                                       0 non-null      float64\n",
      " 5   ________Under_18_years_(%)                                       30 non-null     float64\n",
      " 6   ________Persons_not_in_families/Unrelated_individuals_(%)        30 non-null     float64\n",
      " 7   ________Female_householder,_no_spouse_present_with_children_(%)  30 non-null     float64\n",
      " 8   ________White_(%)                                                30 non-null     float64\n",
      "dtypes: float64(8), int64(1)\n",
      "memory usage: 2.2 KB\n"
     ]
    }
   ],
   "source": [
    "poverty_df.info()"
   ]
  },
  {
   "cell_type": "code",
   "execution_count": 30,
   "id": "44f34427",
   "metadata": {},
   "outputs": [],
   "source": [
    "poverty_df['under_18_change'] = (poverty_df['________Under_18_years_(%)'] - poverty_df['________Under_18_years_(%)'].shift())"
   ]
  },
  {
   "cell_type": "code",
   "execution_count": 31,
   "id": "b7ac30dd",
   "metadata": {},
   "outputs": [],
   "source": [
    "poverty_df['under_18_change'] = poverty_df['under_18_change'].shift(-1)"
   ]
  },
  {
   "cell_type": "code",
   "execution_count": 32,
   "id": "743cd5a2",
   "metadata": {},
   "outputs": [
    {
     "name": "stdout",
     "output_type": "stream",
     "text": [
      "<class 'pandas.core.frame.DataFrame'>\n",
      "RangeIndex: 20 entries, 0 to 19\n",
      "Data columns (total 67 columns):\n",
      " #   Column                                                           Non-Null Count  Dtype  \n",
      "---  ------                                                           --------------  -----  \n",
      " 0   Years                                                            20 non-null     int64  \n",
      " 1   ________18_to_64_years_(%)                                       20 non-null     float64\n",
      " 2   ________65+_years_(%)                                            20 non-null     float64\n",
      " 3   ________Married_couple_families_without_children_(%)             20 non-null     float64\n",
      " 4   ________Married_couple_families_with_children_(%)                20 non-null     float64\n",
      " 5   ________Persons_not_in_families/Unrelated_individuals_(%)        20 non-null     float64\n",
      " 6   ________Male_householder,_no_spouse_present_with_children_(%)    20 non-null     float64\n",
      " 7   ________Female_householder,_no_spouse_present_with_children_(%)  20 non-null     float64\n",
      " 8   ________White_(%)                                                20 non-null     float64\n",
      " 9   ________Black_(%)                                                20 non-null     float64\n",
      " 10  ________Hispanic_(%)                                             20 non-null     float64\n",
      " 11  ________White,_non-Hispanic_(%)                                  20 non-null     float64\n",
      " 12  ________Northeast_(%)                                            20 non-null     float64\n",
      " 13  ________West_(%)                                                 20 non-null     float64\n",
      " 14  ________South_(%)                                                20 non-null     float64\n",
      " 15  ________Midwest_(%)                                              20 non-null     float64\n",
      " 16  ________Alabama_(%)                                              20 non-null     float64\n",
      " 17  ________Alaska_(%)                                               20 non-null     float64\n",
      " 18  ________Arizona_(%)                                              20 non-null     float64\n",
      " 19  ________Arkansas_(%)                                             20 non-null     float64\n",
      " 20  ________California_(%)                                           20 non-null     float64\n",
      " 21  ________Colorado_(%)                                             20 non-null     float64\n",
      " 22  ________Connecticut_(%)                                          20 non-null     float64\n",
      " 23  ________Delaware_(%)                                             20 non-null     float64\n",
      " 24  ________District_of_Columbia_(%)                                 20 non-null     float64\n",
      " 25  ________Florida_(%)                                              20 non-null     float64\n",
      " 26  ________Georgia_(%)                                              20 non-null     float64\n",
      " 27  ________Hawaii_(%)                                               20 non-null     float64\n",
      " 28  ________Idaho_(%)                                                20 non-null     float64\n",
      " 29  ________Illinois_(%)                                             20 non-null     float64\n",
      " 30  ________Indiana_(%)                                              20 non-null     float64\n",
      " 31  ________Iowa_(%)                                                 20 non-null     float64\n",
      " 32  ________Kansas_(%)                                               20 non-null     float64\n",
      " 33  ________Kentucky_(%)                                             20 non-null     float64\n",
      " 34  ________Louisiana_(%)                                            20 non-null     float64\n",
      " 35  ________Maine_(%)                                                20 non-null     float64\n",
      " 36  ________Maryland_(%)                                             20 non-null     float64\n",
      " 37  ________Massachusetts_(%)                                        20 non-null     float64\n",
      " 38  ________Michigan_(%)                                             20 non-null     float64\n",
      " 39  ________Minnesota_(%)                                            20 non-null     float64\n",
      " 40  ________Mississippi_(%)                                          20 non-null     float64\n",
      " 41  ________Missouri_(%)                                             20 non-null     float64\n",
      " 42  ________Montana_(%)                                              20 non-null     float64\n",
      " 43  ________Nebraska_(%)                                             20 non-null     float64\n",
      " 44  ________Nevada_(%)                                               20 non-null     float64\n",
      " 45  ________New_Hampshire_(%)                                        20 non-null     float64\n",
      " 46  ________New_Jersey_(%)                                           20 non-null     float64\n",
      " 47  ________New_Mexico_(%)                                           20 non-null     float64\n",
      " 48  ________New_York_(%)                                             20 non-null     float64\n",
      " 49  ________North_Carolina_(%)                                       20 non-null     float64\n",
      " 50  ________North_Dakota_(%)                                         20 non-null     float64\n",
      " 51  ________Ohio_(%)                                                 20 non-null     float64\n",
      " 52  ________Oklahoma_(%)                                             20 non-null     float64\n",
      " 53  ________Oregon_(%)                                               20 non-null     float64\n",
      " 54  ________Pennsylvania_(%)                                         20 non-null     float64\n",
      " 55  ________Rhode_Island_(%)                                         20 non-null     float64\n",
      " 56  ________South_Carolina_(%)                                       20 non-null     float64\n",
      " 57  ________South_Dakota_(%)                                         20 non-null     float64\n",
      " 58  ________Tennessee_(%)                                            20 non-null     float64\n",
      " 59  ________Texas_(%)                                                20 non-null     float64\n",
      " 60  ________Utah_(%)                                                 20 non-null     float64\n",
      " 61  ________Vermont_(%)                                              20 non-null     float64\n",
      " 62  ________Virginia_(%)                                             20 non-null     float64\n",
      " 63  ________Washington_(%)                                           20 non-null     float64\n",
      " 64  ________West_Virginia_(%)                                        20 non-null     float64\n",
      " 65  ________Wisconsin_(%)                                            20 non-null     float64\n",
      " 66  ________Wyoming_(%)                                              20 non-null     float64\n",
      "dtypes: float64(66), int64(1)\n",
      "memory usage: 10.6 KB\n"
     ]
    }
   ],
   "source": [
    "extra_poverty_stats_df.info()"
   ]
  },
  {
   "cell_type": "code",
   "execution_count": 33,
   "id": "8c927d15",
   "metadata": {},
   "outputs": [],
   "source": [
    "extra_poverty_stats_df['18_to_64_change'] = (extra_poverty_stats_df['________18_to_64_years_(%)'] - extra_poverty_stats_df['________18_to_64_years_(%)'].shift())"
   ]
  },
  {
   "cell_type": "code",
   "execution_count": 34,
   "id": "c4c0f63e",
   "metadata": {},
   "outputs": [],
   "source": [
    "extra_poverty_stats_df['18_to_64_change'] = extra_poverty_stats_df['18_to_64_change'].shift(-1)"
   ]
  },
  {
   "cell_type": "code",
   "execution_count": 35,
   "id": "7455335a",
   "metadata": {},
   "outputs": [],
   "source": [
    "extra_poverty_stats_df['65+_change'] = (extra_poverty_stats_df['________65+_years_(%)'] - extra_poverty_stats_df['________65+_years_(%)'].shift())"
   ]
  },
  {
   "cell_type": "code",
   "execution_count": 36,
   "id": "248faac0",
   "metadata": {},
   "outputs": [],
   "source": [
    "extra_poverty_stats_df['65+_change'] = extra_poverty_stats_df['65+_change'].shift(-1)"
   ]
  },
  {
   "cell_type": "code",
   "execution_count": 37,
   "id": "4d7f549e",
   "metadata": {},
   "outputs": [],
   "source": [
    "extra_poverty_stats_df['married_without_children_change'] = (extra_poverty_stats_df['________Married_couple_families_without_children_(%)'] - extra_poverty_stats_df['________Married_couple_families_without_children_(%)'].shift())"
   ]
  },
  {
   "cell_type": "code",
   "execution_count": 38,
   "id": "574b3d13",
   "metadata": {},
   "outputs": [],
   "source": [
    "extra_poverty_stats_df['married_without_children_change'] = extra_poverty_stats_df['married_without_children_change'].shift(-1)"
   ]
  },
  {
   "cell_type": "code",
   "execution_count": 39,
   "id": "653595c3",
   "metadata": {},
   "outputs": [],
   "source": [
    "extra_poverty_stats_df['married_with_children_change'] = (extra_poverty_stats_df['________Married_couple_families_with_children_(%)'] - extra_poverty_stats_df['________Married_couple_families_with_children_(%)'].shift())"
   ]
  },
  {
   "cell_type": "code",
   "execution_count": 40,
   "id": "544eed29",
   "metadata": {},
   "outputs": [],
   "source": [
    "extra_poverty_stats_df['married_with_children_change'] = extra_poverty_stats_df['married_with_children_change'].shift(-1)"
   ]
  },
  {
   "cell_type": "code",
   "execution_count": 41,
   "id": "f1c39c55",
   "metadata": {},
   "outputs": [],
   "source": [
    "extra_poverty_stats_df['out_of_families_change'] = (extra_poverty_stats_df['________Persons_not_in_families/Unrelated_individuals_(%)'] - extra_poverty_stats_df['________Persons_not_in_families/Unrelated_individuals_(%)'].shift())"
   ]
  },
  {
   "cell_type": "code",
   "execution_count": 42,
   "id": "f6b911b2",
   "metadata": {},
   "outputs": [],
   "source": [
    "extra_poverty_stats_df['out_of_families_change'] = extra_poverty_stats_df['out_of_families_change'].shift(-1)"
   ]
  },
  {
   "cell_type": "code",
   "execution_count": 43,
   "id": "3a6035a4",
   "metadata": {},
   "outputs": [],
   "source": [
    "extra_poverty_stats_df['single_father_change'] = (extra_poverty_stats_df['________Male_householder,_no_spouse_present_with_children_(%)'] - extra_poverty_stats_df['________Male_householder,_no_spouse_present_with_children_(%)'].shift())"
   ]
  },
  {
   "cell_type": "code",
   "execution_count": 44,
   "id": "4947e9d1",
   "metadata": {},
   "outputs": [],
   "source": [
    "extra_poverty_stats_df['single_father_change'] = extra_poverty_stats_df['single_father_change'].shift(-1)"
   ]
  },
  {
   "cell_type": "code",
   "execution_count": 45,
   "id": "b71ed249",
   "metadata": {},
   "outputs": [],
   "source": [
    "extra_poverty_stats_df['single_mother_change'] = (extra_poverty_stats_df['________Female_householder,_no_spouse_present_with_children_(%)'] - extra_poverty_stats_df['________Female_householder,_no_spouse_present_with_children_(%)'].shift())"
   ]
  },
  {
   "cell_type": "code",
   "execution_count": 46,
   "id": "a056f250",
   "metadata": {},
   "outputs": [],
   "source": [
    "extra_poverty_stats_df['single_mother_change'] = extra_poverty_stats_df['single_mother_change'].shift(-1)"
   ]
  },
  {
   "cell_type": "code",
   "execution_count": 47,
   "id": "e6b46c4f",
   "metadata": {},
   "outputs": [],
   "source": [
    "extra_poverty_stats_df['white_change'] = (extra_poverty_stats_df['________White_(%)'] - extra_poverty_stats_df['________White_(%)'].shift())"
   ]
  },
  {
   "cell_type": "code",
   "execution_count": 48,
   "id": "6cf96160",
   "metadata": {},
   "outputs": [],
   "source": [
    "extra_poverty_stats_df['white_change'] = extra_poverty_stats_df['white_change'].shift(-1)"
   ]
  },
  {
   "cell_type": "code",
   "execution_count": 49,
   "id": "880b9529",
   "metadata": {},
   "outputs": [],
   "source": [
    "extra_poverty_stats_df['black_change'] = (extra_poverty_stats_df['________Black_(%)'] - extra_poverty_stats_df['________Black_(%)'].shift())"
   ]
  },
  {
   "cell_type": "code",
   "execution_count": 50,
   "id": "84b129e7",
   "metadata": {},
   "outputs": [],
   "source": [
    "extra_poverty_stats_df['black_change'] = extra_poverty_stats_df['black_change'].shift(-1)"
   ]
  },
  {
   "cell_type": "code",
   "execution_count": 51,
   "id": "4811e529",
   "metadata": {},
   "outputs": [],
   "source": [
    "extra_poverty_stats_df['hispanic_change'] = (extra_poverty_stats_df['________Hispanic_(%)'] - extra_poverty_stats_df['________Hispanic_(%)'].shift())"
   ]
  },
  {
   "cell_type": "code",
   "execution_count": 52,
   "id": "83f01b71",
   "metadata": {},
   "outputs": [],
   "source": [
    "extra_poverty_stats_df['hispanic_change'] = extra_poverty_stats_df['hispanic_change'].shift(-1)"
   ]
  },
  {
   "cell_type": "code",
   "execution_count": 53,
   "id": "78ee96b8",
   "metadata": {},
   "outputs": [],
   "source": [
    "extra_poverty_stats_df['white_not_hispanic_change'] = (extra_poverty_stats_df['________White,_non-Hispanic_(%)'] - extra_poverty_stats_df['________White,_non-Hispanic_(%)'].shift())"
   ]
  },
  {
   "cell_type": "code",
   "execution_count": 54,
   "id": "994a9fd6",
   "metadata": {},
   "outputs": [],
   "source": [
    "extra_poverty_stats_df['white_not_hispanic_change'] = extra_poverty_stats_df['white_not_hispanic_change'].shift(-1)"
   ]
  },
  {
   "cell_type": "code",
   "execution_count": 55,
   "id": "80d1dd94",
   "metadata": {},
   "outputs": [],
   "source": [
    "extra_poverty_stats_df['northeast_change'] = (extra_poverty_stats_df['________Northeast_(%)'] - extra_poverty_stats_df['________Northeast_(%)'].shift())"
   ]
  },
  {
   "cell_type": "code",
   "execution_count": 56,
   "id": "2bf8059f",
   "metadata": {},
   "outputs": [],
   "source": [
    "extra_poverty_stats_df['northeast_change'] = extra_poverty_stats_df['northeast_change'].shift(-1)"
   ]
  },
  {
   "cell_type": "code",
   "execution_count": 57,
   "id": "d1590bdd",
   "metadata": {},
   "outputs": [],
   "source": [
    "extra_poverty_stats_df['west_change'] = (extra_poverty_stats_df['________West_(%)'] - extra_poverty_stats_df['________West_(%)'].shift())"
   ]
  },
  {
   "cell_type": "code",
   "execution_count": 58,
   "id": "e8082de5",
   "metadata": {},
   "outputs": [],
   "source": [
    "extra_poverty_stats_df['west_change'] = extra_poverty_stats_df['west_change'].shift(-1)"
   ]
  },
  {
   "cell_type": "code",
   "execution_count": 59,
   "id": "c0528e11",
   "metadata": {},
   "outputs": [],
   "source": [
    "extra_poverty_stats_df['south_change'] = (extra_poverty_stats_df['________South_(%)'] - extra_poverty_stats_df['________South_(%)'].shift())"
   ]
  },
  {
   "cell_type": "code",
   "execution_count": 60,
   "id": "793a5027",
   "metadata": {},
   "outputs": [],
   "source": [
    "extra_poverty_stats_df['south_change'] = extra_poverty_stats_df['south_change'].shift(-1)"
   ]
  },
  {
   "cell_type": "code",
   "execution_count": 61,
   "id": "ef491699",
   "metadata": {},
   "outputs": [],
   "source": [
    "extra_poverty_stats_df['midwest_change'] = (extra_poverty_stats_df['________Midwest_(%)'] - extra_poverty_stats_df['________Midwest_(%)'].shift())"
   ]
  },
  {
   "cell_type": "code",
   "execution_count": 62,
   "id": "5e08e4a1",
   "metadata": {},
   "outputs": [],
   "source": [
    "extra_poverty_stats_df['midwest_change'] = extra_poverty_stats_df['midwest_change'].shift(-1)"
   ]
  },
  {
   "cell_type": "code",
   "execution_count": 63,
   "id": "03d15fc2",
   "metadata": {},
   "outputs": [],
   "source": [
    "extra_poverty_stats_df['alaska_change'] = (extra_poverty_stats_df['________Alaska_(%)'] - extra_poverty_stats_df['________Alaska_(%)'].shift())"
   ]
  },
  {
   "cell_type": "code",
   "execution_count": 64,
   "id": "8f6b2328",
   "metadata": {},
   "outputs": [],
   "source": [
    "extra_poverty_stats_df['alaska_change'] = extra_poverty_stats_df['alaska_change'].shift(-1)"
   ]
  },
  {
   "cell_type": "code",
   "execution_count": 65,
   "id": "be347a22",
   "metadata": {},
   "outputs": [],
   "source": [
    "extra_poverty_stats_df['alabama_change'] = (extra_poverty_stats_df['________Alabama_(%)'] - extra_poverty_stats_df['________Alabama_(%)'].shift())"
   ]
  },
  {
   "cell_type": "code",
   "execution_count": 66,
   "id": "845fd6ac",
   "metadata": {},
   "outputs": [],
   "source": [
    "extra_poverty_stats_df['alabama_change'] = extra_poverty_stats_df['alabama_change'].shift(-1)"
   ]
  },
  {
   "cell_type": "code",
   "execution_count": 67,
   "id": "0a853c1f",
   "metadata": {},
   "outputs": [],
   "source": [
    "extra_poverty_stats_df['arizona_change'] = (extra_poverty_stats_df['________Arizona_(%)'] - extra_poverty_stats_df['________Arizona_(%)'].shift())"
   ]
  },
  {
   "cell_type": "code",
   "execution_count": 68,
   "id": "6253c486",
   "metadata": {},
   "outputs": [],
   "source": [
    "extra_poverty_stats_df['arizona_change'] = extra_poverty_stats_df['arizona_change'].shift(-1)"
   ]
  },
  {
   "cell_type": "code",
   "execution_count": 69,
   "id": "35c19b3e",
   "metadata": {},
   "outputs": [],
   "source": [
    "extra_poverty_stats_df['arkansas_change'] = (extra_poverty_stats_df['________Arkansas_(%)'] - extra_poverty_stats_df['________Arkansas_(%)'].shift())"
   ]
  },
  {
   "cell_type": "code",
   "execution_count": 70,
   "id": "bbd912c3",
   "metadata": {},
   "outputs": [],
   "source": [
    "extra_poverty_stats_df['arkansas_change'] = extra_poverty_stats_df['arkansas_change'].shift(-1)"
   ]
  },
  {
   "cell_type": "code",
   "execution_count": 71,
   "id": "018e27fc",
   "metadata": {},
   "outputs": [],
   "source": [
    "extra_poverty_stats_df['california_change'] = (extra_poverty_stats_df['________California_(%)'] - extra_poverty_stats_df['________California_(%)'].shift())"
   ]
  },
  {
   "cell_type": "code",
   "execution_count": 72,
   "id": "24676df3",
   "metadata": {},
   "outputs": [],
   "source": [
    "extra_poverty_stats_df['california_change'] = extra_poverty_stats_df['california_change'].shift(-1)"
   ]
  },
  {
   "cell_type": "code",
   "execution_count": 73,
   "id": "5a556590",
   "metadata": {},
   "outputs": [],
   "source": [
    "extra_poverty_stats_df['colorado_change'] = (extra_poverty_stats_df['________Colorado_(%)'] - extra_poverty_stats_df['________Colorado_(%)'].shift())"
   ]
  },
  {
   "cell_type": "code",
   "execution_count": 74,
   "id": "3080c92c",
   "metadata": {},
   "outputs": [],
   "source": [
    "extra_poverty_stats_df['colorado_change'] = extra_poverty_stats_df['colorado_change'].shift(-1)"
   ]
  },
  {
   "cell_type": "code",
   "execution_count": 75,
   "id": "be7a3037",
   "metadata": {},
   "outputs": [],
   "source": [
    "extra_poverty_stats_df['connecticut_change'] = (extra_poverty_stats_df['________Connecticut_(%)'] - extra_poverty_stats_df['________Connecticut_(%)'].shift())"
   ]
  },
  {
   "cell_type": "code",
   "execution_count": 76,
   "id": "d3c4532f",
   "metadata": {},
   "outputs": [],
   "source": [
    "extra_poverty_stats_df['connecticut_change'] = extra_poverty_stats_df['connecticut_change'].shift(-1)"
   ]
  },
  {
   "cell_type": "code",
   "execution_count": 77,
   "id": "fae7721e",
   "metadata": {},
   "outputs": [],
   "source": [
    "extra_poverty_stats_df['delaware_change'] = (extra_poverty_stats_df['________Delaware_(%)'] - extra_poverty_stats_df['________Delaware_(%)'].shift())"
   ]
  },
  {
   "cell_type": "code",
   "execution_count": 78,
   "id": "ac8fdfcc",
   "metadata": {},
   "outputs": [],
   "source": [
    "extra_poverty_stats_df['delaware_change'] = extra_poverty_stats_df['delaware_change'].shift(-1)"
   ]
  },
  {
   "cell_type": "code",
   "execution_count": 79,
   "id": "417264db",
   "metadata": {},
   "outputs": [],
   "source": [
    "extra_poverty_stats_df['dc_change'] = (extra_poverty_stats_df['________District_of_Columbia_(%)'] - extra_poverty_stats_df['________District_of_Columbia_(%)'].shift())"
   ]
  },
  {
   "cell_type": "code",
   "execution_count": 80,
   "id": "317557da",
   "metadata": {},
   "outputs": [],
   "source": [
    "extra_poverty_stats_df['dc_change'] = extra_poverty_stats_df['dc_change'].shift(-1)"
   ]
  },
  {
   "cell_type": "code",
   "execution_count": 81,
   "id": "cf1be869",
   "metadata": {},
   "outputs": [],
   "source": [
    "extra_poverty_stats_df['florida_change'] = (extra_poverty_stats_df['________Florida_(%)'] - extra_poverty_stats_df['________Florida_(%)'].shift())"
   ]
  },
  {
   "cell_type": "code",
   "execution_count": 82,
   "id": "46d868fb",
   "metadata": {},
   "outputs": [],
   "source": [
    "extra_poverty_stats_df['florida_change'] = extra_poverty_stats_df['florida_change'].shift(-1)"
   ]
  },
  {
   "cell_type": "code",
   "execution_count": 83,
   "id": "4e9d55e2",
   "metadata": {},
   "outputs": [],
   "source": [
    "extra_poverty_stats_df['georgia_change'] = (extra_poverty_stats_df['________Georgia_(%)'] - extra_poverty_stats_df['________Georgia_(%)'].shift())"
   ]
  },
  {
   "cell_type": "code",
   "execution_count": 84,
   "id": "5aeec7eb",
   "metadata": {},
   "outputs": [],
   "source": [
    "extra_poverty_stats_df['georgia_change'] = extra_poverty_stats_df['georgia_change'].shift(-1)"
   ]
  },
  {
   "cell_type": "code",
   "execution_count": 85,
   "id": "2241e897",
   "metadata": {},
   "outputs": [],
   "source": [
    "extra_poverty_stats_df['hawaii_change'] = (extra_poverty_stats_df['________Hawaii_(%)'] - extra_poverty_stats_df['________Hawaii_(%)'].shift())"
   ]
  },
  {
   "cell_type": "code",
   "execution_count": 86,
   "id": "b2ec387e",
   "metadata": {},
   "outputs": [],
   "source": [
    "extra_poverty_stats_df['hawaii_change'] = extra_poverty_stats_df['hawaii_change'].shift(-1)"
   ]
  },
  {
   "cell_type": "code",
   "execution_count": 87,
   "id": "597edf3f",
   "metadata": {},
   "outputs": [],
   "source": [
    "extra_poverty_stats_df['idaho_change'] = (extra_poverty_stats_df['________Idaho_(%)'] - extra_poverty_stats_df['________Idaho_(%)'].shift())"
   ]
  },
  {
   "cell_type": "code",
   "execution_count": 88,
   "id": "f5214664",
   "metadata": {},
   "outputs": [],
   "source": [
    "extra_poverty_stats_df['idaho_change'] = extra_poverty_stats_df['idaho_change'].shift(-1)"
   ]
  },
  {
   "cell_type": "code",
   "execution_count": 89,
   "id": "66788e98",
   "metadata": {},
   "outputs": [],
   "source": [
    "extra_poverty_stats_df['illinois_change'] = (extra_poverty_stats_df['________Illinois_(%)'] - extra_poverty_stats_df['________Illinois_(%)'].shift())"
   ]
  },
  {
   "cell_type": "code",
   "execution_count": 90,
   "id": "53bf6985",
   "metadata": {},
   "outputs": [],
   "source": [
    "extra_poverty_stats_df['illinois_change'] = extra_poverty_stats_df['illinois_change'].shift(-1)"
   ]
  },
  {
   "cell_type": "code",
   "execution_count": 91,
   "id": "9d10b6ee",
   "metadata": {},
   "outputs": [],
   "source": [
    "extra_poverty_stats_df['indiana_change'] = (extra_poverty_stats_df['________Indiana_(%)'] - extra_poverty_stats_df['________Indiana_(%)'].shift())"
   ]
  },
  {
   "cell_type": "code",
   "execution_count": 92,
   "id": "abbf69bb",
   "metadata": {},
   "outputs": [],
   "source": [
    "extra_poverty_stats_df['indiana_change'] = extra_poverty_stats_df['indiana_change'].shift(-1)"
   ]
  },
  {
   "cell_type": "code",
   "execution_count": 93,
   "id": "ddb2eb4c",
   "metadata": {},
   "outputs": [],
   "source": [
    "extra_poverty_stats_df['iowa_change'] = (extra_poverty_stats_df['________Iowa_(%)'] - extra_poverty_stats_df['________Iowa_(%)'].shift())"
   ]
  },
  {
   "cell_type": "code",
   "execution_count": 94,
   "id": "f6888251",
   "metadata": {},
   "outputs": [],
   "source": [
    "extra_poverty_stats_df['iowa_change'] = extra_poverty_stats_df['iowa_change'].shift(-1)"
   ]
  },
  {
   "cell_type": "code",
   "execution_count": 95,
   "id": "348a9754",
   "metadata": {},
   "outputs": [],
   "source": [
    "extra_poverty_stats_df['kansas_change'] = (extra_poverty_stats_df['________Kansas_(%)'] - extra_poverty_stats_df['________Kansas_(%)'].shift())"
   ]
  },
  {
   "cell_type": "code",
   "execution_count": 96,
   "id": "9eaf746a",
   "metadata": {},
   "outputs": [],
   "source": [
    "extra_poverty_stats_df['kansas_change'] = extra_poverty_stats_df['kansas_change'].shift(-1)"
   ]
  },
  {
   "cell_type": "code",
   "execution_count": 97,
   "id": "714eaa63",
   "metadata": {},
   "outputs": [],
   "source": [
    "extra_poverty_stats_df['kentucky_change'] = (extra_poverty_stats_df['________Kentucky_(%)'] - extra_poverty_stats_df['________Kentucky_(%)'].shift())"
   ]
  },
  {
   "cell_type": "code",
   "execution_count": 98,
   "id": "7a9ef0c9",
   "metadata": {},
   "outputs": [],
   "source": [
    "extra_poverty_stats_df['kentucky_change'] = extra_poverty_stats_df['kentucky_change'].shift(-1)"
   ]
  },
  {
   "cell_type": "code",
   "execution_count": 99,
   "id": "394b5995",
   "metadata": {},
   "outputs": [],
   "source": [
    "extra_poverty_stats_df['louisiana_change'] = (extra_poverty_stats_df['________Louisiana_(%)'] - extra_poverty_stats_df['________Louisiana_(%)'].shift())"
   ]
  },
  {
   "cell_type": "code",
   "execution_count": 100,
   "id": "ad711c77",
   "metadata": {},
   "outputs": [],
   "source": [
    "extra_poverty_stats_df['louisiana_change'] = extra_poverty_stats_df['louisiana_change'].shift(-1)"
   ]
  },
  {
   "cell_type": "code",
   "execution_count": 101,
   "id": "1a34bfd6",
   "metadata": {},
   "outputs": [],
   "source": [
    "extra_poverty_stats_df['maine_change'] = (extra_poverty_stats_df['________Maine_(%)'] - extra_poverty_stats_df['________Maine_(%)'].shift())"
   ]
  },
  {
   "cell_type": "code",
   "execution_count": 102,
   "id": "4c7b5ca6",
   "metadata": {},
   "outputs": [],
   "source": [
    "extra_poverty_stats_df['maine_change'] = extra_poverty_stats_df['maine_change'].shift(-1)"
   ]
  },
  {
   "cell_type": "code",
   "execution_count": 103,
   "id": "fc330a31",
   "metadata": {},
   "outputs": [],
   "source": [
    "extra_poverty_stats_df['maryland_change'] = (extra_poverty_stats_df['________Maryland_(%)'] - extra_poverty_stats_df['________Maryland_(%)'].shift())"
   ]
  },
  {
   "cell_type": "code",
   "execution_count": 104,
   "id": "3d047fa4",
   "metadata": {},
   "outputs": [],
   "source": [
    "extra_poverty_stats_df['maryland_change'] = extra_poverty_stats_df['maryland_change'].shift(-1)"
   ]
  },
  {
   "cell_type": "code",
   "execution_count": 105,
   "id": "9b5dc8b4",
   "metadata": {},
   "outputs": [],
   "source": [
    "extra_poverty_stats_df['massachusetts_change'] = (extra_poverty_stats_df['________Massachusetts_(%)'] - extra_poverty_stats_df['________Massachusetts_(%)'].shift())"
   ]
  },
  {
   "cell_type": "code",
   "execution_count": 106,
   "id": "a705e020",
   "metadata": {},
   "outputs": [],
   "source": [
    "extra_poverty_stats_df['massachusetts_change'] = extra_poverty_stats_df['massachusetts_change'].shift(-1)"
   ]
  },
  {
   "cell_type": "code",
   "execution_count": 107,
   "id": "213c1206",
   "metadata": {},
   "outputs": [],
   "source": [
    "extra_poverty_stats_df['michigan_change'] = (extra_poverty_stats_df['________Michigan_(%)'] - extra_poverty_stats_df['________Michigan_(%)'].shift())"
   ]
  },
  {
   "cell_type": "code",
   "execution_count": 108,
   "id": "bf18b5d4",
   "metadata": {},
   "outputs": [],
   "source": [
    "extra_poverty_stats_df['michigan_change'] = extra_poverty_stats_df['michigan_change'].shift(-1)"
   ]
  },
  {
   "cell_type": "code",
   "execution_count": 109,
   "id": "b05abaca",
   "metadata": {},
   "outputs": [],
   "source": [
    "extra_poverty_stats_df['minnesota_change'] = (extra_poverty_stats_df['________Minnesota_(%)'] - extra_poverty_stats_df['________Minnesota_(%)'].shift())"
   ]
  },
  {
   "cell_type": "code",
   "execution_count": 110,
   "id": "a6f3a93b",
   "metadata": {},
   "outputs": [],
   "source": [
    "extra_poverty_stats_df['minnesota_change'] = extra_poverty_stats_df['minnesota_change'].shift(-1)"
   ]
  },
  {
   "cell_type": "code",
   "execution_count": 111,
   "id": "33c45366",
   "metadata": {},
   "outputs": [],
   "source": [
    "extra_poverty_stats_df['mississippi_change'] = (extra_poverty_stats_df['________Mississippi_(%)'] - extra_poverty_stats_df['________Mississippi_(%)'].shift())"
   ]
  },
  {
   "cell_type": "code",
   "execution_count": 112,
   "id": "c5646efb",
   "metadata": {},
   "outputs": [],
   "source": [
    "extra_poverty_stats_df['mississippi_change'] = extra_poverty_stats_df['mississippi_change'].shift(-1)"
   ]
  },
  {
   "cell_type": "code",
   "execution_count": 113,
   "id": "f4944706",
   "metadata": {},
   "outputs": [],
   "source": [
    "extra_poverty_stats_df['missouri_change'] = (extra_poverty_stats_df['________Missouri_(%)'] - extra_poverty_stats_df['________Missouri_(%)'].shift())"
   ]
  },
  {
   "cell_type": "code",
   "execution_count": 114,
   "id": "43aec4e0",
   "metadata": {},
   "outputs": [],
   "source": [
    "extra_poverty_stats_df['missouri_change'] = extra_poverty_stats_df['missouri_change'].shift(-1)"
   ]
  },
  {
   "cell_type": "code",
   "execution_count": 115,
   "id": "225110d3",
   "metadata": {},
   "outputs": [],
   "source": [
    "extra_poverty_stats_df['montana_change'] = (extra_poverty_stats_df['________Montana_(%)'] - extra_poverty_stats_df['________Montana_(%)'].shift())"
   ]
  },
  {
   "cell_type": "code",
   "execution_count": 116,
   "id": "7749501c",
   "metadata": {},
   "outputs": [],
   "source": [
    "extra_poverty_stats_df['montana_change'] = extra_poverty_stats_df['montana_change'].shift(-1)"
   ]
  },
  {
   "cell_type": "code",
   "execution_count": 117,
   "id": "baebc651",
   "metadata": {},
   "outputs": [],
   "source": [
    "extra_poverty_stats_df['nebraska_change'] = (extra_poverty_stats_df['________Nebraska_(%)'] - extra_poverty_stats_df['________Nebraska_(%)'].shift())"
   ]
  },
  {
   "cell_type": "code",
   "execution_count": 118,
   "id": "735c59ca",
   "metadata": {},
   "outputs": [],
   "source": [
    "extra_poverty_stats_df['nebraska_change'] = extra_poverty_stats_df['nebraska_change'].shift(-1)"
   ]
  },
  {
   "cell_type": "code",
   "execution_count": 119,
   "id": "d09aaf4b",
   "metadata": {},
   "outputs": [],
   "source": [
    "extra_poverty_stats_df['nevada_change'] = (extra_poverty_stats_df['________Nevada_(%)'] - extra_poverty_stats_df['________Nevada_(%)'].shift())"
   ]
  },
  {
   "cell_type": "code",
   "execution_count": 120,
   "id": "e19c288b",
   "metadata": {},
   "outputs": [],
   "source": [
    "extra_poverty_stats_df['nevada_change'] = extra_poverty_stats_df['nevada_change'].shift(-1)"
   ]
  },
  {
   "cell_type": "code",
   "execution_count": 121,
   "id": "2ff7ecdf",
   "metadata": {},
   "outputs": [],
   "source": [
    "extra_poverty_stats_df['new_hampshire_change'] = (extra_poverty_stats_df['________New_Hampshire_(%)'] - extra_poverty_stats_df['________New_Hampshire_(%)'].shift())"
   ]
  },
  {
   "cell_type": "code",
   "execution_count": 122,
   "id": "3d510309",
   "metadata": {},
   "outputs": [],
   "source": [
    "extra_poverty_stats_df['new_hampshire_change'] = extra_poverty_stats_df['new_hampshire_change'].shift(-1)"
   ]
  },
  {
   "cell_type": "code",
   "execution_count": 123,
   "id": "5d088fbb",
   "metadata": {},
   "outputs": [],
   "source": [
    "extra_poverty_stats_df['new_jersey_change'] = (extra_poverty_stats_df['________New_Jersey_(%)'] - extra_poverty_stats_df['________New_Jersey_(%)'].shift())"
   ]
  },
  {
   "cell_type": "code",
   "execution_count": 124,
   "id": "3b0dd011",
   "metadata": {},
   "outputs": [],
   "source": [
    "extra_poverty_stats_df['new_jersey_change'] = extra_poverty_stats_df['new_jersey_change'].shift(-1)"
   ]
  },
  {
   "cell_type": "code",
   "execution_count": 125,
   "id": "13cc2d42",
   "metadata": {},
   "outputs": [],
   "source": [
    "extra_poverty_stats_df['new_mexico_change'] = (extra_poverty_stats_df['________New_Mexico_(%)'] - extra_poverty_stats_df['________New_Mexico_(%)'].shift())"
   ]
  },
  {
   "cell_type": "code",
   "execution_count": 126,
   "id": "77dd1946",
   "metadata": {},
   "outputs": [],
   "source": [
    "extra_poverty_stats_df['new_mexico_change'] = extra_poverty_stats_df['new_mexico_change'].shift(-1)"
   ]
  },
  {
   "cell_type": "code",
   "execution_count": 127,
   "id": "34761e1b",
   "metadata": {},
   "outputs": [],
   "source": [
    "extra_poverty_stats_df['new_york_change'] = (extra_poverty_stats_df['________New_York_(%)'] - extra_poverty_stats_df['________New_York_(%)'].shift())"
   ]
  },
  {
   "cell_type": "code",
   "execution_count": 128,
   "id": "b2adb608",
   "metadata": {},
   "outputs": [],
   "source": [
    "extra_poverty_stats_df['new_york_change'] = extra_poverty_stats_df['new_york_change'].shift(-1)"
   ]
  },
  {
   "cell_type": "code",
   "execution_count": 129,
   "id": "21c385b5",
   "metadata": {},
   "outputs": [],
   "source": [
    "extra_poverty_stats_df['north_carolina_change'] = (extra_poverty_stats_df['________North_Carolina_(%)'] - extra_poverty_stats_df['________North_Carolina_(%)'].shift())"
   ]
  },
  {
   "cell_type": "code",
   "execution_count": 130,
   "id": "ae505a45",
   "metadata": {},
   "outputs": [],
   "source": [
    "extra_poverty_stats_df['north_carolina_change'] = extra_poverty_stats_df['north_carolina_change'].shift(-1)"
   ]
  },
  {
   "cell_type": "code",
   "execution_count": 131,
   "id": "88b4da3b",
   "metadata": {},
   "outputs": [],
   "source": [
    "extra_poverty_stats_df['north_dakota_change'] = (extra_poverty_stats_df['________North_Dakota_(%)'] - extra_poverty_stats_df['________North_Dakota_(%)'].shift())"
   ]
  },
  {
   "cell_type": "code",
   "execution_count": 132,
   "id": "221c6d68",
   "metadata": {},
   "outputs": [],
   "source": [
    "extra_poverty_stats_df['north_dakota_change'] = extra_poverty_stats_df['north_dakota_change'].shift(-1)"
   ]
  },
  {
   "cell_type": "code",
   "execution_count": 133,
   "id": "d08ab9fe",
   "metadata": {},
   "outputs": [],
   "source": [
    "extra_poverty_stats_df['ohio_change'] = (extra_poverty_stats_df['________Ohio_(%)'] - extra_poverty_stats_df['________Ohio_(%)'].shift())"
   ]
  },
  {
   "cell_type": "code",
   "execution_count": 134,
   "id": "db1b87ff",
   "metadata": {},
   "outputs": [],
   "source": [
    "extra_poverty_stats_df['ohio_change'] = extra_poverty_stats_df['ohio_change'].shift(-1)"
   ]
  },
  {
   "cell_type": "code",
   "execution_count": 135,
   "id": "edeb200e",
   "metadata": {},
   "outputs": [],
   "source": [
    "extra_poverty_stats_df['oklahoma_change'] = (extra_poverty_stats_df['________Oklahoma_(%)'] - extra_poverty_stats_df['________Oklahoma_(%)'].shift())"
   ]
  },
  {
   "cell_type": "code",
   "execution_count": 136,
   "id": "5e02412f",
   "metadata": {},
   "outputs": [],
   "source": [
    "extra_poverty_stats_df['oklahoma_change'] = extra_poverty_stats_df['oklahoma_change'].shift(-1)"
   ]
  },
  {
   "cell_type": "code",
   "execution_count": 137,
   "id": "a40efdd0",
   "metadata": {},
   "outputs": [],
   "source": [
    "extra_poverty_stats_df['oregon_change'] = (extra_poverty_stats_df['________Oregon_(%)'] - extra_poverty_stats_df['________Oregon_(%)'].shift())"
   ]
  },
  {
   "cell_type": "code",
   "execution_count": 138,
   "id": "a35e16b0",
   "metadata": {},
   "outputs": [],
   "source": [
    "extra_poverty_stats_df['oregon_change'] = extra_poverty_stats_df['oregon_change'].shift(-1)"
   ]
  },
  {
   "cell_type": "code",
   "execution_count": 139,
   "id": "40f3c322",
   "metadata": {},
   "outputs": [],
   "source": [
    "extra_poverty_stats_df['pennsylvania_change'] = (extra_poverty_stats_df['________Pennsylvania_(%)'] - extra_poverty_stats_df['________Pennsylvania_(%)'].shift())"
   ]
  },
  {
   "cell_type": "code",
   "execution_count": 140,
   "id": "68f5b437",
   "metadata": {},
   "outputs": [],
   "source": [
    "extra_poverty_stats_df['pennsylvania_change'] = extra_poverty_stats_df['pennsylvania_change'].shift(-1)"
   ]
  },
  {
   "cell_type": "code",
   "execution_count": 141,
   "id": "d508e147",
   "metadata": {},
   "outputs": [],
   "source": [
    "extra_poverty_stats_df['rhode_island_change'] = (extra_poverty_stats_df['________Rhode_Island_(%)'] - extra_poverty_stats_df['________Rhode_Island_(%)'].shift())"
   ]
  },
  {
   "cell_type": "code",
   "execution_count": 142,
   "id": "4004d919",
   "metadata": {},
   "outputs": [],
   "source": [
    "extra_poverty_stats_df['rhode_island_change'] = extra_poverty_stats_df['rhode_island_change'].shift(-1)"
   ]
  },
  {
   "cell_type": "code",
   "execution_count": 143,
   "id": "9f5298ea",
   "metadata": {},
   "outputs": [],
   "source": [
    "extra_poverty_stats_df['south_carolina_change'] = (extra_poverty_stats_df['________South_Carolina_(%)'] - extra_poverty_stats_df['________South_Carolina_(%)'].shift())"
   ]
  },
  {
   "cell_type": "code",
   "execution_count": 144,
   "id": "693454d6",
   "metadata": {},
   "outputs": [],
   "source": [
    "extra_poverty_stats_df['south_carolina_change'] = extra_poverty_stats_df['south_carolina_change'].shift(-1)"
   ]
  },
  {
   "cell_type": "code",
   "execution_count": 145,
   "id": "047d6773",
   "metadata": {},
   "outputs": [],
   "source": [
    "extra_poverty_stats_df['south_dakota_change'] = (extra_poverty_stats_df['________South_Dakota_(%)'] - extra_poverty_stats_df['________South_Dakota_(%)'].shift())"
   ]
  },
  {
   "cell_type": "code",
   "execution_count": 146,
   "id": "c7554990",
   "metadata": {},
   "outputs": [],
   "source": [
    "extra_poverty_stats_df['south_dakota_change'] = extra_poverty_stats_df['south_dakota_change'].shift(-1)"
   ]
  },
  {
   "cell_type": "code",
   "execution_count": 147,
   "id": "f3b3db7c",
   "metadata": {},
   "outputs": [],
   "source": [
    "extra_poverty_stats_df['tennessee_change'] = (extra_poverty_stats_df['________Tennessee_(%)'] - extra_poverty_stats_df['________Tennessee_(%)'].shift())"
   ]
  },
  {
   "cell_type": "code",
   "execution_count": 148,
   "id": "ae77025e",
   "metadata": {},
   "outputs": [],
   "source": [
    "extra_poverty_stats_df['tennessee_change'] = extra_poverty_stats_df['tennessee_change'].shift(-1)"
   ]
  },
  {
   "cell_type": "code",
   "execution_count": 149,
   "id": "55d2ecb8",
   "metadata": {},
   "outputs": [],
   "source": [
    "extra_poverty_stats_df['texas_change'] = (extra_poverty_stats_df['________Texas_(%)'] - extra_poverty_stats_df['________Texas_(%)'].shift())"
   ]
  },
  {
   "cell_type": "code",
   "execution_count": 150,
   "id": "9bacf414",
   "metadata": {},
   "outputs": [],
   "source": [
    "extra_poverty_stats_df['texas_change'] = extra_poverty_stats_df['texas_change'].shift(-1)"
   ]
  },
  {
   "cell_type": "code",
   "execution_count": 151,
   "id": "893aacac",
   "metadata": {},
   "outputs": [],
   "source": [
    "extra_poverty_stats_df['utah_change'] = (extra_poverty_stats_df['________Utah_(%)'] - extra_poverty_stats_df['________Utah_(%)'].shift())"
   ]
  },
  {
   "cell_type": "code",
   "execution_count": 152,
   "id": "3dc75830",
   "metadata": {},
   "outputs": [],
   "source": [
    "extra_poverty_stats_df['utah_change'] = extra_poverty_stats_df['utah_change'].shift(-1)"
   ]
  },
  {
   "cell_type": "code",
   "execution_count": 153,
   "id": "d77136c4",
   "metadata": {},
   "outputs": [],
   "source": [
    "extra_poverty_stats_df['vermont_change'] = (extra_poverty_stats_df['________Vermont_(%)'] - extra_poverty_stats_df['________Vermont_(%)'].shift())"
   ]
  },
  {
   "cell_type": "code",
   "execution_count": 154,
   "id": "3267b94c",
   "metadata": {},
   "outputs": [],
   "source": [
    "extra_poverty_stats_df['vermont_change'] = extra_poverty_stats_df['vermont_change'].shift(-1) "
   ]
  },
  {
   "cell_type": "code",
   "execution_count": 155,
   "id": "079feee5",
   "metadata": {},
   "outputs": [],
   "source": [
    "extra_poverty_stats_df['virginia_change'] = (extra_poverty_stats_df['________Virginia_(%)'] - extra_poverty_stats_df['________Virginia_(%)'].shift())"
   ]
  },
  {
   "cell_type": "code",
   "execution_count": 156,
   "id": "abae5b6a",
   "metadata": {},
   "outputs": [],
   "source": [
    "extra_poverty_stats_df['virginia_change'] = extra_poverty_stats_df['virginia_change'].shift(-1)"
   ]
  },
  {
   "cell_type": "code",
   "execution_count": 157,
   "id": "58695f0c",
   "metadata": {},
   "outputs": [],
   "source": [
    "extra_poverty_stats_df['washington_change'] = (extra_poverty_stats_df['________Washington_(%)'] - extra_poverty_stats_df['________Washington_(%)'].shift())"
   ]
  },
  {
   "cell_type": "code",
   "execution_count": 158,
   "id": "a54d3681",
   "metadata": {},
   "outputs": [],
   "source": [
    "extra_poverty_stats_df['washington_change'] = extra_poverty_stats_df['washington_change'].shift(-1)"
   ]
  },
  {
   "cell_type": "code",
   "execution_count": 159,
   "id": "7a84288c",
   "metadata": {},
   "outputs": [],
   "source": [
    "extra_poverty_stats_df['west_virginia_change'] = (extra_poverty_stats_df['________West_Virginia_(%)'] - extra_poverty_stats_df['________West_Virginia_(%)'].shift())"
   ]
  },
  {
   "cell_type": "code",
   "execution_count": 160,
   "id": "dbbc4d0a",
   "metadata": {},
   "outputs": [],
   "source": [
    "extra_poverty_stats_df['west_virginia_change'] = extra_poverty_stats_df['west_virginia_change'].shift(-1) "
   ]
  },
  {
   "cell_type": "code",
   "execution_count": 161,
   "id": "97396c73",
   "metadata": {},
   "outputs": [],
   "source": [
    "extra_poverty_stats_df['wisconsin_change'] = (extra_poverty_stats_df['________Wisconsin_(%)'] - extra_poverty_stats_df['________Wisconsin_(%)'].shift())"
   ]
  },
  {
   "cell_type": "code",
   "execution_count": 162,
   "id": "f9eb7a0b",
   "metadata": {},
   "outputs": [],
   "source": [
    "extra_poverty_stats_df['wisconsin_change'] = extra_poverty_stats_df['wisconsin_change'].shift(-1) "
   ]
  },
  {
   "cell_type": "code",
   "execution_count": 163,
   "id": "bccd3c4a",
   "metadata": {},
   "outputs": [],
   "source": [
    "extra_poverty_stats_df['wyoming_change'] = (extra_poverty_stats_df['________Wyoming_(%)'] - extra_poverty_stats_df['________Wyoming_(%)'].shift())"
   ]
  },
  {
   "cell_type": "code",
   "execution_count": 164,
   "id": "783930fc",
   "metadata": {},
   "outputs": [],
   "source": [
    "extra_poverty_stats_df['wyoming_change'] = extra_poverty_stats_df['wyoming_change'].shift(-1) "
   ]
  },
  {
   "cell_type": "code",
   "execution_count": 165,
   "id": "905d35f0",
   "metadata": {},
   "outputs": [],
   "source": [
    "poverty_df.columns = poverty_df.columns.str.lower()\n",
    "\n",
    "voter_df.columns = voter_df.columns.str.lower()\n",
    "\n",
    "presidential_vs_midterm_df.columns = presidential_vs_midterm_df.columns.str.lower()\n",
    "\n",
    "extra_poverty_stats_df.columns = extra_poverty_stats_df.columns.str.lower()"
   ]
  },
  {
   "cell_type": "code",
   "execution_count": 166,
   "id": "4d61eaf1",
   "metadata": {},
   "outputs": [],
   "source": [
    "extra_poverty_stats_df = extra_poverty_stats_df.dropna()"
   ]
  },
  {
   "cell_type": "code",
   "execution_count": 167,
   "id": "36ab8d5e",
   "metadata": {},
   "outputs": [
    {
     "data": {
      "text/html": [
       "<div>\n",
       "<style scoped>\n",
       "    .dataframe tbody tr th:only-of-type {\n",
       "        vertical-align: middle;\n",
       "    }\n",
       "\n",
       "    .dataframe tbody tr th {\n",
       "        vertical-align: top;\n",
       "    }\n",
       "\n",
       "    .dataframe thead th {\n",
       "        text-align: right;\n",
       "    }\n",
       "</style>\n",
       "<table border=\"1\" class=\"dataframe\">\n",
       "  <thead>\n",
       "    <tr style=\"text-align: right;\">\n",
       "      <th></th>\n",
       "      <th>years</th>\n",
       "      <th>________18_to_64_years_(%)</th>\n",
       "      <th>________65+_years_(%)</th>\n",
       "      <th>________married_couple_families_without_children_(%)</th>\n",
       "      <th>________married_couple_families_with_children_(%)</th>\n",
       "      <th>________persons_not_in_families/unrelated_individuals_(%)</th>\n",
       "      <th>________male_householder,_no_spouse_present_with_children_(%)</th>\n",
       "      <th>________female_householder,_no_spouse_present_with_children_(%)</th>\n",
       "      <th>________white_(%)</th>\n",
       "      <th>________black_(%)</th>\n",
       "      <th>...</th>\n",
       "      <th>south_dakota_change</th>\n",
       "      <th>tennessee_change</th>\n",
       "      <th>texas_change</th>\n",
       "      <th>utah_change</th>\n",
       "      <th>vermont_change</th>\n",
       "      <th>virginia_change</th>\n",
       "      <th>washington_change</th>\n",
       "      <th>west_virginia_change</th>\n",
       "      <th>wisconsin_change</th>\n",
       "      <th>wyoming_change</th>\n",
       "    </tr>\n",
       "  </thead>\n",
       "  <tbody>\n",
       "    <tr>\n",
       "      <th>0</th>\n",
       "      <td>1980</td>\n",
       "      <td>0.101</td>\n",
       "      <td>0.157</td>\n",
       "      <td>0.045</td>\n",
       "      <td>0.077</td>\n",
       "      <td>0.086</td>\n",
       "      <td>0.180</td>\n",
       "      <td>0.429</td>\n",
       "      <td>0.102</td>\n",
       "      <td>0.325</td>\n",
       "      <td>...</td>\n",
       "      <td>-0.020</td>\n",
       "      <td>0.040</td>\n",
       "      <td>0.005</td>\n",
       "      <td>0.045</td>\n",
       "      <td>0.009</td>\n",
       "      <td>0.001</td>\n",
       "      <td>0.002</td>\n",
       "      <td>0.096</td>\n",
       "      <td>0.010</td>\n",
       "      <td>0.016</td>\n",
       "    </tr>\n",
       "    <tr>\n",
       "      <th>1</th>\n",
       "      <td>1982</td>\n",
       "      <td>0.120</td>\n",
       "      <td>0.146</td>\n",
       "      <td>0.054</td>\n",
       "      <td>0.098</td>\n",
       "      <td>0.115</td>\n",
       "      <td>0.206</td>\n",
       "      <td>0.478</td>\n",
       "      <td>0.120</td>\n",
       "      <td>0.356</td>\n",
       "      <td>...</td>\n",
       "      <td>-0.023</td>\n",
       "      <td>-0.062</td>\n",
       "      <td>-0.005</td>\n",
       "      <td>-0.034</td>\n",
       "      <td>-0.003</td>\n",
       "      <td>-0.025</td>\n",
       "      <td>-0.016</td>\n",
       "      <td>-0.044</td>\n",
       "      <td>0.060</td>\n",
       "      <td>-0.011</td>\n",
       "    </tr>\n",
       "    <tr>\n",
       "      <th>2</th>\n",
       "      <td>1984</td>\n",
       "      <td>0.117</td>\n",
       "      <td>0.124</td>\n",
       "      <td>0.045</td>\n",
       "      <td>0.094</td>\n",
       "      <td>0.106</td>\n",
       "      <td>0.181</td>\n",
       "      <td>0.457</td>\n",
       "      <td>0.115</td>\n",
       "      <td>0.338</td>\n",
       "      <td>...</td>\n",
       "      <td>0.025</td>\n",
       "      <td>0.009</td>\n",
       "      <td>0.016</td>\n",
       "      <td>0.015</td>\n",
       "      <td>-0.016</td>\n",
       "      <td>-0.003</td>\n",
       "      <td>0.016</td>\n",
       "      <td>0.020</td>\n",
       "      <td>-0.048</td>\n",
       "      <td>0.037</td>\n",
       "    </tr>\n",
       "    <tr>\n",
       "      <th>3</th>\n",
       "      <td>1986</td>\n",
       "      <td>0.108</td>\n",
       "      <td>0.124</td>\n",
       "      <td>0.041</td>\n",
       "      <td>0.080</td>\n",
       "      <td>0.092</td>\n",
       "      <td>0.178</td>\n",
       "      <td>0.460</td>\n",
       "      <td>0.110</td>\n",
       "      <td>0.311</td>\n",
       "      <td>...</td>\n",
       "      <td>-0.028</td>\n",
       "      <td>-0.003</td>\n",
       "      <td>0.007</td>\n",
       "      <td>-0.028</td>\n",
       "      <td>-0.029</td>\n",
       "      <td>0.011</td>\n",
       "      <td>-0.042</td>\n",
       "      <td>-0.045</td>\n",
       "      <td>-0.029</td>\n",
       "      <td>-0.050</td>\n",
       "    </tr>\n",
       "    <tr>\n",
       "      <th>4</th>\n",
       "      <td>1988</td>\n",
       "      <td>0.105</td>\n",
       "      <td>0.120</td>\n",
       "      <td>0.040</td>\n",
       "      <td>0.072</td>\n",
       "      <td>0.089</td>\n",
       "      <td>0.180</td>\n",
       "      <td>0.447</td>\n",
       "      <td>0.101</td>\n",
       "      <td>0.313</td>\n",
       "      <td>...</td>\n",
       "      <td>-0.009</td>\n",
       "      <td>-0.011</td>\n",
       "      <td>-0.021</td>\n",
       "      <td>-0.016</td>\n",
       "      <td>0.028</td>\n",
       "      <td>0.003</td>\n",
       "      <td>0.002</td>\n",
       "      <td>0.002</td>\n",
       "      <td>0.015</td>\n",
       "      <td>0.014</td>\n",
       "    </tr>\n",
       "    <tr>\n",
       "      <th>5</th>\n",
       "      <td>1990</td>\n",
       "      <td>0.107</td>\n",
       "      <td>0.122</td>\n",
       "      <td>0.037</td>\n",
       "      <td>0.078</td>\n",
       "      <td>0.085</td>\n",
       "      <td>0.188</td>\n",
       "      <td>0.445</td>\n",
       "      <td>0.107</td>\n",
       "      <td>0.319</td>\n",
       "      <td>...</td>\n",
       "      <td>0.018</td>\n",
       "      <td>0.001</td>\n",
       "      <td>0.024</td>\n",
       "      <td>0.012</td>\n",
       "      <td>-0.004</td>\n",
       "      <td>-0.016</td>\n",
       "      <td>0.023</td>\n",
       "      <td>0.042</td>\n",
       "      <td>0.016</td>\n",
       "      <td>-0.007</td>\n",
       "    </tr>\n",
       "    <tr>\n",
       "      <th>6</th>\n",
       "      <td>1992</td>\n",
       "      <td>0.119</td>\n",
       "      <td>0.129</td>\n",
       "      <td>0.042</td>\n",
       "      <td>0.086</td>\n",
       "      <td>0.104</td>\n",
       "      <td>0.225</td>\n",
       "      <td>0.462</td>\n",
       "      <td>0.119</td>\n",
       "      <td>0.334</td>\n",
       "      <td>...</td>\n",
       "      <td>-0.006</td>\n",
       "      <td>-0.024</td>\n",
       "      <td>0.008</td>\n",
       "      <td>-0.014</td>\n",
       "      <td>-0.029</td>\n",
       "      <td>0.012</td>\n",
       "      <td>0.005</td>\n",
       "      <td>-0.037</td>\n",
       "      <td>-0.019</td>\n",
       "      <td>-0.010</td>\n",
       "    </tr>\n",
       "    <tr>\n",
       "      <th>7</th>\n",
       "      <td>1994</td>\n",
       "      <td>0.119</td>\n",
       "      <td>0.117</td>\n",
       "      <td>0.039</td>\n",
       "      <td>0.083</td>\n",
       "      <td>0.113</td>\n",
       "      <td>0.226</td>\n",
       "      <td>0.440</td>\n",
       "      <td>0.117</td>\n",
       "      <td>0.306</td>\n",
       "      <td>...</td>\n",
       "      <td>-0.027</td>\n",
       "      <td>0.013</td>\n",
       "      <td>-0.025</td>\n",
       "      <td>-0.003</td>\n",
       "      <td>0.050</td>\n",
       "      <td>0.016</td>\n",
       "      <td>0.002</td>\n",
       "      <td>-0.001</td>\n",
       "      <td>-0.002</td>\n",
       "      <td>0.026</td>\n",
       "    </tr>\n",
       "    <tr>\n",
       "      <th>8</th>\n",
       "      <td>1996</td>\n",
       "      <td>0.114</td>\n",
       "      <td>0.108</td>\n",
       "      <td>0.038</td>\n",
       "      <td>0.075</td>\n",
       "      <td>0.095</td>\n",
       "      <td>0.200</td>\n",
       "      <td>0.419</td>\n",
       "      <td>0.112</td>\n",
       "      <td>0.284</td>\n",
       "      <td>...</td>\n",
       "      <td>-0.010</td>\n",
       "      <td>-0.025</td>\n",
       "      <td>-0.015</td>\n",
       "      <td>0.013</td>\n",
       "      <td>-0.027</td>\n",
       "      <td>-0.035</td>\n",
       "      <td>-0.030</td>\n",
       "      <td>-0.007</td>\n",
       "      <td>0.000</td>\n",
       "      <td>-0.013</td>\n",
       "    </tr>\n",
       "    <tr>\n",
       "      <th>9</th>\n",
       "      <td>1998</td>\n",
       "      <td>0.105</td>\n",
       "      <td>0.105</td>\n",
       "      <td>0.037</td>\n",
       "      <td>0.069</td>\n",
       "      <td>0.087</td>\n",
       "      <td>0.166</td>\n",
       "      <td>0.387</td>\n",
       "      <td>0.105</td>\n",
       "      <td>0.261</td>\n",
       "      <td>...</td>\n",
       "      <td>-0.001</td>\n",
       "      <td>0.001</td>\n",
       "      <td>0.004</td>\n",
       "      <td>-0.014</td>\n",
       "      <td>0.001</td>\n",
       "      <td>-0.005</td>\n",
       "      <td>0.019</td>\n",
       "      <td>-0.031</td>\n",
       "      <td>0.005</td>\n",
       "      <td>0.002</td>\n",
       "    </tr>\n",
       "    <tr>\n",
       "      <th>10</th>\n",
       "      <td>2000</td>\n",
       "      <td>0.096</td>\n",
       "      <td>0.099</td>\n",
       "      <td>0.035</td>\n",
       "      <td>0.060</td>\n",
       "      <td>0.084</td>\n",
       "      <td>0.153</td>\n",
       "      <td>0.330</td>\n",
       "      <td>0.095</td>\n",
       "      <td>0.225</td>\n",
       "      <td>...</td>\n",
       "      <td>0.008</td>\n",
       "      <td>0.013</td>\n",
       "      <td>0.001</td>\n",
       "      <td>0.023</td>\n",
       "      <td>-0.001</td>\n",
       "      <td>0.016</td>\n",
       "      <td>0.002</td>\n",
       "      <td>0.021</td>\n",
       "      <td>-0.007</td>\n",
       "      <td>-0.018</td>\n",
       "    </tr>\n",
       "    <tr>\n",
       "      <th>11</th>\n",
       "      <td>2002</td>\n",
       "      <td>0.106</td>\n",
       "      <td>0.104</td>\n",
       "      <td>0.040</td>\n",
       "      <td>0.068</td>\n",
       "      <td>0.094</td>\n",
       "      <td>0.166</td>\n",
       "      <td>0.337</td>\n",
       "      <td>0.102</td>\n",
       "      <td>0.241</td>\n",
       "      <td>...</td>\n",
       "      <td>0.020</td>\n",
       "      <td>0.011</td>\n",
       "      <td>0.009</td>\n",
       "      <td>0.002</td>\n",
       "      <td>-0.021</td>\n",
       "      <td>-0.005</td>\n",
       "      <td>0.004</td>\n",
       "      <td>-0.026</td>\n",
       "      <td>0.038</td>\n",
       "      <td>0.010</td>\n",
       "    </tr>\n",
       "    <tr>\n",
       "      <th>12</th>\n",
       "      <td>2004</td>\n",
       "      <td>0.113</td>\n",
       "      <td>0.098</td>\n",
       "      <td>0.043</td>\n",
       "      <td>0.070</td>\n",
       "      <td>0.106</td>\n",
       "      <td>0.171</td>\n",
       "      <td>0.359</td>\n",
       "      <td>0.108</td>\n",
       "      <td>0.247</td>\n",
       "      <td>...</td>\n",
       "      <td>-0.028</td>\n",
       "      <td>-0.010</td>\n",
       "      <td>-0.001</td>\n",
       "      <td>-0.008</td>\n",
       "      <td>0.000</td>\n",
       "      <td>-0.008</td>\n",
       "      <td>-0.034</td>\n",
       "      <td>0.011</td>\n",
       "      <td>-0.023</td>\n",
       "      <td>0.000</td>\n",
       "    </tr>\n",
       "    <tr>\n",
       "      <th>13</th>\n",
       "      <td>2006</td>\n",
       "      <td>0.108</td>\n",
       "      <td>0.094</td>\n",
       "      <td>0.037</td>\n",
       "      <td>0.064</td>\n",
       "      <td>0.097</td>\n",
       "      <td>0.179</td>\n",
       "      <td>0.365</td>\n",
       "      <td>0.103</td>\n",
       "      <td>0.243</td>\n",
       "      <td>...</td>\n",
       "      <td>0.024</td>\n",
       "      <td>0.001</td>\n",
       "      <td>-0.005</td>\n",
       "      <td>-0.017</td>\n",
       "      <td>0.012</td>\n",
       "      <td>0.017</td>\n",
       "      <td>0.024</td>\n",
       "      <td>-0.008</td>\n",
       "      <td>-0.003</td>\n",
       "      <td>0.001</td>\n",
       "    </tr>\n",
       "    <tr>\n",
       "      <th>14</th>\n",
       "      <td>2008</td>\n",
       "      <td>0.117</td>\n",
       "      <td>0.097</td>\n",
       "      <td>0.039</td>\n",
       "      <td>0.075</td>\n",
       "      <td>0.106</td>\n",
       "      <td>0.176</td>\n",
       "      <td>0.372</td>\n",
       "      <td>0.112</td>\n",
       "      <td>0.247</td>\n",
       "      <td>...</td>\n",
       "      <td>0.005</td>\n",
       "      <td>0.017</td>\n",
       "      <td>0.025</td>\n",
       "      <td>0.024</td>\n",
       "      <td>0.018</td>\n",
       "      <td>0.004</td>\n",
       "      <td>0.012</td>\n",
       "      <td>0.023</td>\n",
       "      <td>0.003</td>\n",
       "      <td>-0.005</td>\n",
       "    </tr>\n",
       "    <tr>\n",
       "      <th>15</th>\n",
       "      <td>2010</td>\n",
       "      <td>0.138</td>\n",
       "      <td>0.089</td>\n",
       "      <td>0.042</td>\n",
       "      <td>0.090</td>\n",
       "      <td>0.111</td>\n",
       "      <td>0.241</td>\n",
       "      <td>0.409</td>\n",
       "      <td>0.130</td>\n",
       "      <td>0.274</td>\n",
       "      <td>...</td>\n",
       "      <td>-0.008</td>\n",
       "      <td>0.019</td>\n",
       "      <td>-0.014</td>\n",
       "      <td>0.010</td>\n",
       "      <td>0.004</td>\n",
       "      <td>-0.001</td>\n",
       "      <td>0.000</td>\n",
       "      <td>-0.001</td>\n",
       "      <td>0.013</td>\n",
       "      <td>0.000</td>\n",
       "    </tr>\n",
       "    <tr>\n",
       "      <th>16</th>\n",
       "      <td>2012</td>\n",
       "      <td>0.137</td>\n",
       "      <td>0.091</td>\n",
       "      <td>0.043</td>\n",
       "      <td>0.089</td>\n",
       "      <td>0.117</td>\n",
       "      <td>0.226</td>\n",
       "      <td>0.409</td>\n",
       "      <td>0.127</td>\n",
       "      <td>0.272</td>\n",
       "      <td>...</td>\n",
       "      <td>0.000</td>\n",
       "      <td>-0.013</td>\n",
       "      <td>-0.006</td>\n",
       "      <td>-0.008</td>\n",
       "      <td>-0.019</td>\n",
       "      <td>-0.004</td>\n",
       "      <td>0.004</td>\n",
       "      <td>0.039</td>\n",
       "      <td>-0.005</td>\n",
       "      <td>0.001</td>\n",
       "    </tr>\n",
       "    <tr>\n",
       "      <th>17</th>\n",
       "      <td>2014</td>\n",
       "      <td>0.135</td>\n",
       "      <td>0.100</td>\n",
       "      <td>0.047</td>\n",
       "      <td>0.082</td>\n",
       "      <td>0.120</td>\n",
       "      <td>0.220</td>\n",
       "      <td>0.398</td>\n",
       "      <td>0.127</td>\n",
       "      <td>0.262</td>\n",
       "      <td>...</td>\n",
       "      <td>0.017</td>\n",
       "      <td>-0.024</td>\n",
       "      <td>-0.026</td>\n",
       "      <td>-0.016</td>\n",
       "      <td>0.003</td>\n",
       "      <td>0.012</td>\n",
       "      <td>-0.010</td>\n",
       "      <td>-0.026</td>\n",
       "      <td>-0.002</td>\n",
       "      <td>0.012</td>\n",
       "    </tr>\n",
       "    <tr>\n",
       "      <th>18</th>\n",
       "      <td>2016</td>\n",
       "      <td>0.116</td>\n",
       "      <td>0.093</td>\n",
       "      <td>0.040</td>\n",
       "      <td>0.066</td>\n",
       "      <td>0.105</td>\n",
       "      <td>0.173</td>\n",
       "      <td>0.356</td>\n",
       "      <td>0.110</td>\n",
       "      <td>0.220</td>\n",
       "      <td>...</td>\n",
       "      <td>-0.039</td>\n",
       "      <td>-0.029</td>\n",
       "      <td>-0.001</td>\n",
       "      <td>-0.017</td>\n",
       "      <td>0.001</td>\n",
       "      <td>-0.016</td>\n",
       "      <td>-0.024</td>\n",
       "      <td>-0.021</td>\n",
       "      <td>-0.021</td>\n",
       "      <td>-0.014</td>\n",
       "    </tr>\n",
       "  </tbody>\n",
       "</table>\n",
       "<p>19 rows × 133 columns</p>\n",
       "</div>"
      ],
      "text/plain": [
       "    years  ________18_to_64_years_(%)  ________65+_years_(%)  \\\n",
       "0    1980                       0.101                  0.157   \n",
       "1    1982                       0.120                  0.146   \n",
       "2    1984                       0.117                  0.124   \n",
       "3    1986                       0.108                  0.124   \n",
       "4    1988                       0.105                  0.120   \n",
       "5    1990                       0.107                  0.122   \n",
       "6    1992                       0.119                  0.129   \n",
       "7    1994                       0.119                  0.117   \n",
       "8    1996                       0.114                  0.108   \n",
       "9    1998                       0.105                  0.105   \n",
       "10   2000                       0.096                  0.099   \n",
       "11   2002                       0.106                  0.104   \n",
       "12   2004                       0.113                  0.098   \n",
       "13   2006                       0.108                  0.094   \n",
       "14   2008                       0.117                  0.097   \n",
       "15   2010                       0.138                  0.089   \n",
       "16   2012                       0.137                  0.091   \n",
       "17   2014                       0.135                  0.100   \n",
       "18   2016                       0.116                  0.093   \n",
       "\n",
       "    ________married_couple_families_without_children_(%)  \\\n",
       "0                                               0.045      \n",
       "1                                               0.054      \n",
       "2                                               0.045      \n",
       "3                                               0.041      \n",
       "4                                               0.040      \n",
       "5                                               0.037      \n",
       "6                                               0.042      \n",
       "7                                               0.039      \n",
       "8                                               0.038      \n",
       "9                                               0.037      \n",
       "10                                              0.035      \n",
       "11                                              0.040      \n",
       "12                                              0.043      \n",
       "13                                              0.037      \n",
       "14                                              0.039      \n",
       "15                                              0.042      \n",
       "16                                              0.043      \n",
       "17                                              0.047      \n",
       "18                                              0.040      \n",
       "\n",
       "    ________married_couple_families_with_children_(%)  \\\n",
       "0                                               0.077   \n",
       "1                                               0.098   \n",
       "2                                               0.094   \n",
       "3                                               0.080   \n",
       "4                                               0.072   \n",
       "5                                               0.078   \n",
       "6                                               0.086   \n",
       "7                                               0.083   \n",
       "8                                               0.075   \n",
       "9                                               0.069   \n",
       "10                                              0.060   \n",
       "11                                              0.068   \n",
       "12                                              0.070   \n",
       "13                                              0.064   \n",
       "14                                              0.075   \n",
       "15                                              0.090   \n",
       "16                                              0.089   \n",
       "17                                              0.082   \n",
       "18                                              0.066   \n",
       "\n",
       "    ________persons_not_in_families/unrelated_individuals_(%)  \\\n",
       "0                                               0.086           \n",
       "1                                               0.115           \n",
       "2                                               0.106           \n",
       "3                                               0.092           \n",
       "4                                               0.089           \n",
       "5                                               0.085           \n",
       "6                                               0.104           \n",
       "7                                               0.113           \n",
       "8                                               0.095           \n",
       "9                                               0.087           \n",
       "10                                              0.084           \n",
       "11                                              0.094           \n",
       "12                                              0.106           \n",
       "13                                              0.097           \n",
       "14                                              0.106           \n",
       "15                                              0.111           \n",
       "16                                              0.117           \n",
       "17                                              0.120           \n",
       "18                                              0.105           \n",
       "\n",
       "    ________male_householder,_no_spouse_present_with_children_(%)  \\\n",
       "0                                               0.180               \n",
       "1                                               0.206               \n",
       "2                                               0.181               \n",
       "3                                               0.178               \n",
       "4                                               0.180               \n",
       "5                                               0.188               \n",
       "6                                               0.225               \n",
       "7                                               0.226               \n",
       "8                                               0.200               \n",
       "9                                               0.166               \n",
       "10                                              0.153               \n",
       "11                                              0.166               \n",
       "12                                              0.171               \n",
       "13                                              0.179               \n",
       "14                                              0.176               \n",
       "15                                              0.241               \n",
       "16                                              0.226               \n",
       "17                                              0.220               \n",
       "18                                              0.173               \n",
       "\n",
       "    ________female_householder,_no_spouse_present_with_children_(%)  \\\n",
       "0                                               0.429                 \n",
       "1                                               0.478                 \n",
       "2                                               0.457                 \n",
       "3                                               0.460                 \n",
       "4                                               0.447                 \n",
       "5                                               0.445                 \n",
       "6                                               0.462                 \n",
       "7                                               0.440                 \n",
       "8                                               0.419                 \n",
       "9                                               0.387                 \n",
       "10                                              0.330                 \n",
       "11                                              0.337                 \n",
       "12                                              0.359                 \n",
       "13                                              0.365                 \n",
       "14                                              0.372                 \n",
       "15                                              0.409                 \n",
       "16                                              0.409                 \n",
       "17                                              0.398                 \n",
       "18                                              0.356                 \n",
       "\n",
       "    ________white_(%)  ________black_(%)  ...  south_dakota_change  \\\n",
       "0               0.102              0.325  ...               -0.020   \n",
       "1               0.120              0.356  ...               -0.023   \n",
       "2               0.115              0.338  ...                0.025   \n",
       "3               0.110              0.311  ...               -0.028   \n",
       "4               0.101              0.313  ...               -0.009   \n",
       "5               0.107              0.319  ...                0.018   \n",
       "6               0.119              0.334  ...               -0.006   \n",
       "7               0.117              0.306  ...               -0.027   \n",
       "8               0.112              0.284  ...               -0.010   \n",
       "9               0.105              0.261  ...               -0.001   \n",
       "10              0.095              0.225  ...                0.008   \n",
       "11              0.102              0.241  ...                0.020   \n",
       "12              0.108              0.247  ...               -0.028   \n",
       "13              0.103              0.243  ...                0.024   \n",
       "14              0.112              0.247  ...                0.005   \n",
       "15              0.130              0.274  ...               -0.008   \n",
       "16              0.127              0.272  ...                0.000   \n",
       "17              0.127              0.262  ...                0.017   \n",
       "18              0.110              0.220  ...               -0.039   \n",
       "\n",
       "    tennessee_change  texas_change  utah_change  vermont_change  \\\n",
       "0              0.040         0.005        0.045           0.009   \n",
       "1             -0.062        -0.005       -0.034          -0.003   \n",
       "2              0.009         0.016        0.015          -0.016   \n",
       "3             -0.003         0.007       -0.028          -0.029   \n",
       "4             -0.011        -0.021       -0.016           0.028   \n",
       "5              0.001         0.024        0.012          -0.004   \n",
       "6             -0.024         0.008       -0.014          -0.029   \n",
       "7              0.013        -0.025       -0.003           0.050   \n",
       "8             -0.025        -0.015        0.013          -0.027   \n",
       "9              0.001         0.004       -0.014           0.001   \n",
       "10             0.013         0.001        0.023          -0.001   \n",
       "11             0.011         0.009        0.002          -0.021   \n",
       "12            -0.010        -0.001       -0.008           0.000   \n",
       "13             0.001        -0.005       -0.017           0.012   \n",
       "14             0.017         0.025        0.024           0.018   \n",
       "15             0.019        -0.014        0.010           0.004   \n",
       "16            -0.013        -0.006       -0.008          -0.019   \n",
       "17            -0.024        -0.026       -0.016           0.003   \n",
       "18            -0.029        -0.001       -0.017           0.001   \n",
       "\n",
       "    virginia_change  washington_change  west_virginia_change  \\\n",
       "0             0.001              0.002                 0.096   \n",
       "1            -0.025             -0.016                -0.044   \n",
       "2            -0.003              0.016                 0.020   \n",
       "3             0.011             -0.042                -0.045   \n",
       "4             0.003              0.002                 0.002   \n",
       "5            -0.016              0.023                 0.042   \n",
       "6             0.012              0.005                -0.037   \n",
       "7             0.016              0.002                -0.001   \n",
       "8            -0.035             -0.030                -0.007   \n",
       "9            -0.005              0.019                -0.031   \n",
       "10            0.016              0.002                 0.021   \n",
       "11           -0.005              0.004                -0.026   \n",
       "12           -0.008             -0.034                 0.011   \n",
       "13            0.017              0.024                -0.008   \n",
       "14            0.004              0.012                 0.023   \n",
       "15           -0.001              0.000                -0.001   \n",
       "16           -0.004              0.004                 0.039   \n",
       "17            0.012             -0.010                -0.026   \n",
       "18           -0.016             -0.024                -0.021   \n",
       "\n",
       "    wisconsin_change  wyoming_change  \n",
       "0              0.010           0.016  \n",
       "1              0.060          -0.011  \n",
       "2             -0.048           0.037  \n",
       "3             -0.029          -0.050  \n",
       "4              0.015           0.014  \n",
       "5              0.016          -0.007  \n",
       "6             -0.019          -0.010  \n",
       "7             -0.002           0.026  \n",
       "8              0.000          -0.013  \n",
       "9              0.005           0.002  \n",
       "10            -0.007          -0.018  \n",
       "11             0.038           0.010  \n",
       "12            -0.023           0.000  \n",
       "13            -0.003           0.001  \n",
       "14             0.003          -0.005  \n",
       "15             0.013           0.000  \n",
       "16            -0.005           0.001  \n",
       "17            -0.002           0.012  \n",
       "18            -0.021          -0.014  \n",
       "\n",
       "[19 rows x 133 columns]"
      ]
     },
     "execution_count": 167,
     "metadata": {},
     "output_type": "execute_result"
    }
   ],
   "source": [
    "extra_poverty_stats_df"
   ]
  },
  {
   "cell_type": "code",
   "execution_count": 168,
   "id": "cac1bab0",
   "metadata": {},
   "outputs": [
    {
     "data": {
      "text/html": [
       "<div>\n",
       "<style scoped>\n",
       "    .dataframe tbody tr th:only-of-type {\n",
       "        vertical-align: middle;\n",
       "    }\n",
       "\n",
       "    .dataframe tbody tr th {\n",
       "        vertical-align: top;\n",
       "    }\n",
       "\n",
       "    .dataframe thead th {\n",
       "        text-align: right;\n",
       "    }\n",
       "</style>\n",
       "<table border=\"1\" class=\"dataframe\">\n",
       "  <thead>\n",
       "    <tr style=\"text-align: right;\">\n",
       "      <th></th>\n",
       "      <th>year</th>\n",
       "      <th>u.s_federal_voter_turnout_rate</th>\n",
       "    </tr>\n",
       "  </thead>\n",
       "  <tbody>\n",
       "    <tr>\n",
       "      <th>0</th>\n",
       "      <td>1960</td>\n",
       "      <td>63.8</td>\n",
       "    </tr>\n",
       "    <tr>\n",
       "      <th>1</th>\n",
       "      <td>1962</td>\n",
       "      <td>47.7</td>\n",
       "    </tr>\n",
       "    <tr>\n",
       "      <th>2</th>\n",
       "      <td>1964</td>\n",
       "      <td>62.8</td>\n",
       "    </tr>\n",
       "    <tr>\n",
       "      <th>3</th>\n",
       "      <td>1966</td>\n",
       "      <td>48.7</td>\n",
       "    </tr>\n",
       "    <tr>\n",
       "      <th>4</th>\n",
       "      <td>1968</td>\n",
       "      <td>62.5</td>\n",
       "    </tr>\n",
       "    <tr>\n",
       "      <th>5</th>\n",
       "      <td>1970</td>\n",
       "      <td>47.3</td>\n",
       "    </tr>\n",
       "    <tr>\n",
       "      <th>6</th>\n",
       "      <td>1972</td>\n",
       "      <td>56.2</td>\n",
       "    </tr>\n",
       "    <tr>\n",
       "      <th>7</th>\n",
       "      <td>1974</td>\n",
       "      <td>39.1</td>\n",
       "    </tr>\n",
       "    <tr>\n",
       "      <th>8</th>\n",
       "      <td>1976</td>\n",
       "      <td>54.8</td>\n",
       "    </tr>\n",
       "    <tr>\n",
       "      <th>9</th>\n",
       "      <td>1978</td>\n",
       "      <td>39.0</td>\n",
       "    </tr>\n",
       "    <tr>\n",
       "      <th>10</th>\n",
       "      <td>1980</td>\n",
       "      <td>54.2</td>\n",
       "    </tr>\n",
       "    <tr>\n",
       "      <th>11</th>\n",
       "      <td>1982</td>\n",
       "      <td>42.0</td>\n",
       "    </tr>\n",
       "    <tr>\n",
       "      <th>12</th>\n",
       "      <td>1984</td>\n",
       "      <td>55.2</td>\n",
       "    </tr>\n",
       "    <tr>\n",
       "      <th>13</th>\n",
       "      <td>1986</td>\n",
       "      <td>38.1</td>\n",
       "    </tr>\n",
       "    <tr>\n",
       "      <th>14</th>\n",
       "      <td>1988</td>\n",
       "      <td>52.8</td>\n",
       "    </tr>\n",
       "    <tr>\n",
       "      <th>15</th>\n",
       "      <td>1990</td>\n",
       "      <td>38.4</td>\n",
       "    </tr>\n",
       "    <tr>\n",
       "      <th>16</th>\n",
       "      <td>1992</td>\n",
       "      <td>58.1</td>\n",
       "    </tr>\n",
       "    <tr>\n",
       "      <th>17</th>\n",
       "      <td>1994</td>\n",
       "      <td>41.1</td>\n",
       "    </tr>\n",
       "    <tr>\n",
       "      <th>18</th>\n",
       "      <td>1996</td>\n",
       "      <td>51.7</td>\n",
       "    </tr>\n",
       "    <tr>\n",
       "      <th>19</th>\n",
       "      <td>1998</td>\n",
       "      <td>38.1</td>\n",
       "    </tr>\n",
       "    <tr>\n",
       "      <th>20</th>\n",
       "      <td>2000</td>\n",
       "      <td>54.2</td>\n",
       "    </tr>\n",
       "    <tr>\n",
       "      <th>21</th>\n",
       "      <td>2002</td>\n",
       "      <td>39.5</td>\n",
       "    </tr>\n",
       "    <tr>\n",
       "      <th>22</th>\n",
       "      <td>2004</td>\n",
       "      <td>60.1</td>\n",
       "    </tr>\n",
       "    <tr>\n",
       "      <th>23</th>\n",
       "      <td>2006</td>\n",
       "      <td>40.4</td>\n",
       "    </tr>\n",
       "    <tr>\n",
       "      <th>24</th>\n",
       "      <td>2008</td>\n",
       "      <td>61.6</td>\n",
       "    </tr>\n",
       "    <tr>\n",
       "      <th>25</th>\n",
       "      <td>2010</td>\n",
       "      <td>41.0</td>\n",
       "    </tr>\n",
       "    <tr>\n",
       "      <th>26</th>\n",
       "      <td>2012</td>\n",
       "      <td>58.6</td>\n",
       "    </tr>\n",
       "    <tr>\n",
       "      <th>27</th>\n",
       "      <td>2014</td>\n",
       "      <td>36.7</td>\n",
       "    </tr>\n",
       "    <tr>\n",
       "      <th>28</th>\n",
       "      <td>2016</td>\n",
       "      <td>60.1</td>\n",
       "    </tr>\n",
       "    <tr>\n",
       "      <th>29</th>\n",
       "      <td>2018</td>\n",
       "      <td>50.0</td>\n",
       "    </tr>\n",
       "    <tr>\n",
       "      <th>30</th>\n",
       "      <td>2020</td>\n",
       "      <td>66.6</td>\n",
       "    </tr>\n",
       "  </tbody>\n",
       "</table>\n",
       "</div>"
      ],
      "text/plain": [
       "    year  u.s_federal_voter_turnout_rate\n",
       "0   1960                            63.8\n",
       "1   1962                            47.7\n",
       "2   1964                            62.8\n",
       "3   1966                            48.7\n",
       "4   1968                            62.5\n",
       "5   1970                            47.3\n",
       "6   1972                            56.2\n",
       "7   1974                            39.1\n",
       "8   1976                            54.8\n",
       "9   1978                            39.0\n",
       "10  1980                            54.2\n",
       "11  1982                            42.0\n",
       "12  1984                            55.2\n",
       "13  1986                            38.1\n",
       "14  1988                            52.8\n",
       "15  1990                            38.4\n",
       "16  1992                            58.1\n",
       "17  1994                            41.1\n",
       "18  1996                            51.7\n",
       "19  1998                            38.1\n",
       "20  2000                            54.2\n",
       "21  2002                            39.5\n",
       "22  2004                            60.1\n",
       "23  2006                            40.4\n",
       "24  2008                            61.6\n",
       "25  2010                            41.0\n",
       "26  2012                            58.6\n",
       "27  2014                            36.7\n",
       "28  2016                            60.1\n",
       "29  2018                            50.0\n",
       "30  2020                            66.6"
      ]
     },
     "execution_count": 168,
     "metadata": {},
     "output_type": "execute_result"
    }
   ],
   "source": [
    "voter_df"
   ]
  },
  {
   "cell_type": "code",
   "execution_count": 169,
   "id": "209b1558",
   "metadata": {},
   "outputs": [],
   "source": [
    "short_federal_df = voter_df.drop([0, 1, 2, 3, 4, 5, 6, 7, 8, 9, 29, 30], axis=0)"
   ]
  },
  {
   "cell_type": "code",
   "execution_count": 195,
   "id": "b7120e0c",
   "metadata": {},
   "outputs": [],
   "source": [
    "voter_list = presidential_vs_midterm_df['united_states_presidential_vep_turnout_rate']\n",
    "voter_columns = []\n",
    "\n",
    "for column in voter_list:\n",
    "    column = column.replace(\",\", \".\")\n",
    "    \n",
    "    voter_columns.append(column)\n",
    "    \n",
    "presidential_vs_midterm_df['united_states_presidential_vep_turnout_rate'] = voter_columns"
   ]
  },
  {
   "cell_type": "code",
   "execution_count": 196,
   "id": "42040859",
   "metadata": {},
   "outputs": [],
   "source": [
    "presidential_vs_midterm_df['united_states_presidential_vep_turnout_rate'] = presidential_vs_midterm_df['united_states_presidential_vep_turnout_rate'].astype(float)"
   ]
  },
  {
   "cell_type": "code",
   "execution_count": 170,
   "id": "beae6eba",
   "metadata": {},
   "outputs": [
    {
     "data": {
      "text/html": [
       "<div>\n",
       "<style scoped>\n",
       "    .dataframe tbody tr th:only-of-type {\n",
       "        vertical-align: middle;\n",
       "    }\n",
       "\n",
       "    .dataframe tbody tr th {\n",
       "        vertical-align: top;\n",
       "    }\n",
       "\n",
       "    .dataframe thead th {\n",
       "        text-align: right;\n",
       "    }\n",
       "</style>\n",
       "<table border=\"1\" class=\"dataframe\">\n",
       "  <thead>\n",
       "    <tr style=\"text-align: right;\">\n",
       "      <th></th>\n",
       "      <th>year</th>\n",
       "      <th>u.s_federal_voter_turnout_rate</th>\n",
       "    </tr>\n",
       "  </thead>\n",
       "  <tbody>\n",
       "    <tr>\n",
       "      <th>10</th>\n",
       "      <td>1980</td>\n",
       "      <td>54.2</td>\n",
       "    </tr>\n",
       "    <tr>\n",
       "      <th>11</th>\n",
       "      <td>1982</td>\n",
       "      <td>42.0</td>\n",
       "    </tr>\n",
       "    <tr>\n",
       "      <th>12</th>\n",
       "      <td>1984</td>\n",
       "      <td>55.2</td>\n",
       "    </tr>\n",
       "    <tr>\n",
       "      <th>13</th>\n",
       "      <td>1986</td>\n",
       "      <td>38.1</td>\n",
       "    </tr>\n",
       "    <tr>\n",
       "      <th>14</th>\n",
       "      <td>1988</td>\n",
       "      <td>52.8</td>\n",
       "    </tr>\n",
       "    <tr>\n",
       "      <th>15</th>\n",
       "      <td>1990</td>\n",
       "      <td>38.4</td>\n",
       "    </tr>\n",
       "    <tr>\n",
       "      <th>16</th>\n",
       "      <td>1992</td>\n",
       "      <td>58.1</td>\n",
       "    </tr>\n",
       "    <tr>\n",
       "      <th>17</th>\n",
       "      <td>1994</td>\n",
       "      <td>41.1</td>\n",
       "    </tr>\n",
       "    <tr>\n",
       "      <th>18</th>\n",
       "      <td>1996</td>\n",
       "      <td>51.7</td>\n",
       "    </tr>\n",
       "    <tr>\n",
       "      <th>19</th>\n",
       "      <td>1998</td>\n",
       "      <td>38.1</td>\n",
       "    </tr>\n",
       "    <tr>\n",
       "      <th>20</th>\n",
       "      <td>2000</td>\n",
       "      <td>54.2</td>\n",
       "    </tr>\n",
       "    <tr>\n",
       "      <th>21</th>\n",
       "      <td>2002</td>\n",
       "      <td>39.5</td>\n",
       "    </tr>\n",
       "    <tr>\n",
       "      <th>22</th>\n",
       "      <td>2004</td>\n",
       "      <td>60.1</td>\n",
       "    </tr>\n",
       "    <tr>\n",
       "      <th>23</th>\n",
       "      <td>2006</td>\n",
       "      <td>40.4</td>\n",
       "    </tr>\n",
       "    <tr>\n",
       "      <th>24</th>\n",
       "      <td>2008</td>\n",
       "      <td>61.6</td>\n",
       "    </tr>\n",
       "    <tr>\n",
       "      <th>25</th>\n",
       "      <td>2010</td>\n",
       "      <td>41.0</td>\n",
       "    </tr>\n",
       "    <tr>\n",
       "      <th>26</th>\n",
       "      <td>2012</td>\n",
       "      <td>58.6</td>\n",
       "    </tr>\n",
       "    <tr>\n",
       "      <th>27</th>\n",
       "      <td>2014</td>\n",
       "      <td>36.7</td>\n",
       "    </tr>\n",
       "    <tr>\n",
       "      <th>28</th>\n",
       "      <td>2016</td>\n",
       "      <td>60.1</td>\n",
       "    </tr>\n",
       "  </tbody>\n",
       "</table>\n",
       "</div>"
      ],
      "text/plain": [
       "    year  u.s_federal_voter_turnout_rate\n",
       "10  1980                            54.2\n",
       "11  1982                            42.0\n",
       "12  1984                            55.2\n",
       "13  1986                            38.1\n",
       "14  1988                            52.8\n",
       "15  1990                            38.4\n",
       "16  1992                            58.1\n",
       "17  1994                            41.1\n",
       "18  1996                            51.7\n",
       "19  1998                            38.1\n",
       "20  2000                            54.2\n",
       "21  2002                            39.5\n",
       "22  2004                            60.1\n",
       "23  2006                            40.4\n",
       "24  2008                            61.6\n",
       "25  2010                            41.0\n",
       "26  2012                            58.6\n",
       "27  2014                            36.7\n",
       "28  2016                            60.1"
      ]
     },
     "execution_count": 170,
     "metadata": {},
     "output_type": "execute_result"
    }
   ],
   "source": [
    "short_federal_df"
   ]
  },
  {
   "cell_type": "code",
   "execution_count": 171,
   "id": "1956bbe3",
   "metadata": {},
   "outputs": [
    {
     "data": {
      "text/html": [
       "<div>\n",
       "<style scoped>\n",
       "    .dataframe tbody tr th:only-of-type {\n",
       "        vertical-align: middle;\n",
       "    }\n",
       "\n",
       "    .dataframe tbody tr th {\n",
       "        vertical-align: top;\n",
       "    }\n",
       "\n",
       "    .dataframe thead th {\n",
       "        text-align: right;\n",
       "    }\n",
       "</style>\n",
       "<table border=\"1\" class=\"dataframe\">\n",
       "  <thead>\n",
       "    <tr style=\"text-align: right;\">\n",
       "      <th></th>\n",
       "      <th>year</th>\n",
       "      <th>united_states_presidential_vep_turnout_rate</th>\n",
       "      <th>year.1</th>\n",
       "      <th>united_states_vep_midterm_turnout_rate</th>\n",
       "    </tr>\n",
       "  </thead>\n",
       "  <tbody>\n",
       "    <tr>\n",
       "      <th>0</th>\n",
       "      <td>1960</td>\n",
       "      <td>63.8</td>\n",
       "      <td>1962</td>\n",
       "      <td>47.7</td>\n",
       "    </tr>\n",
       "    <tr>\n",
       "      <th>1</th>\n",
       "      <td>1964</td>\n",
       "      <td>62.8</td>\n",
       "      <td>1966</td>\n",
       "      <td>48.7</td>\n",
       "    </tr>\n",
       "    <tr>\n",
       "      <th>2</th>\n",
       "      <td>1968</td>\n",
       "      <td>62.5</td>\n",
       "      <td>1970</td>\n",
       "      <td>47.3</td>\n",
       "    </tr>\n",
       "    <tr>\n",
       "      <th>3</th>\n",
       "      <td>1972</td>\n",
       "      <td>56.2</td>\n",
       "      <td>1974</td>\n",
       "      <td>39.1</td>\n",
       "    </tr>\n",
       "    <tr>\n",
       "      <th>4</th>\n",
       "      <td>1976</td>\n",
       "      <td>54.8</td>\n",
       "      <td>1978</td>\n",
       "      <td>39.0</td>\n",
       "    </tr>\n",
       "  </tbody>\n",
       "</table>\n",
       "</div>"
      ],
      "text/plain": [
       "   year united_states_presidential_vep_turnout_rate  year.1  \\\n",
       "0  1960                                        63.8    1962   \n",
       "1  1964                                        62.8    1966   \n",
       "2  1968                                        62.5    1970   \n",
       "3  1972                                        56.2    1974   \n",
       "4  1976                                        54.8    1978   \n",
       "\n",
       "   united_states_vep_midterm_turnout_rate  \n",
       "0                                    47.7  \n",
       "1                                    48.7  \n",
       "2                                    47.3  \n",
       "3                                    39.1  \n",
       "4                                    39.0  "
      ]
     },
     "execution_count": 171,
     "metadata": {},
     "output_type": "execute_result"
    }
   ],
   "source": [
    "presidential_vs_midterm_df.head()"
   ]
  },
  {
   "cell_type": "code",
   "execution_count": 172,
   "id": "36626372",
   "metadata": {},
   "outputs": [],
   "source": [
    "short_presidential_df = presidential_vs_midterm_df['united_states_presidential_vep_turnout_rate']"
   ]
  },
  {
   "cell_type": "code",
   "execution_count": 173,
   "id": "b4f38710",
   "metadata": {},
   "outputs": [],
   "source": [
    "short_presidential_df = short_presidential_df.drop([0, 1, 2, 3, 4, 15], axis=0)"
   ]
  },
  {
   "cell_type": "code",
   "execution_count": 174,
   "id": "4a6adca4",
   "metadata": {},
   "outputs": [],
   "source": [
    "short_midterm_df = presidential_vs_midterm_df['united_states_vep_midterm_turnout_rate']"
   ]
  },
  {
   "cell_type": "code",
   "execution_count": 175,
   "id": "596e14bb",
   "metadata": {},
   "outputs": [],
   "source": [
    "short_midterm_df = short_midterm_df.drop([0, 1, 2, 3, 4, 14, 15], axis=0)"
   ]
  },
  {
   "cell_type": "code",
   "execution_count": 176,
   "id": "c7781743",
   "metadata": {},
   "outputs": [
    {
     "data": {
      "text/html": [
       "<div>\n",
       "<style scoped>\n",
       "    .dataframe tbody tr th:only-of-type {\n",
       "        vertical-align: middle;\n",
       "    }\n",
       "\n",
       "    .dataframe tbody tr th {\n",
       "        vertical-align: top;\n",
       "    }\n",
       "\n",
       "    .dataframe thead th {\n",
       "        text-align: right;\n",
       "    }\n",
       "</style>\n",
       "<table border=\"1\" class=\"dataframe\">\n",
       "  <thead>\n",
       "    <tr style=\"text-align: right;\">\n",
       "      <th></th>\n",
       "      <th>year</th>\n",
       "      <th>u.s_federal_voter_turnout_rate</th>\n",
       "    </tr>\n",
       "  </thead>\n",
       "  <tbody>\n",
       "    <tr>\n",
       "      <th>10</th>\n",
       "      <td>1980</td>\n",
       "      <td>54.2</td>\n",
       "    </tr>\n",
       "    <tr>\n",
       "      <th>11</th>\n",
       "      <td>1982</td>\n",
       "      <td>42.0</td>\n",
       "    </tr>\n",
       "    <tr>\n",
       "      <th>12</th>\n",
       "      <td>1984</td>\n",
       "      <td>55.2</td>\n",
       "    </tr>\n",
       "    <tr>\n",
       "      <th>13</th>\n",
       "      <td>1986</td>\n",
       "      <td>38.1</td>\n",
       "    </tr>\n",
       "    <tr>\n",
       "      <th>14</th>\n",
       "      <td>1988</td>\n",
       "      <td>52.8</td>\n",
       "    </tr>\n",
       "  </tbody>\n",
       "</table>\n",
       "</div>"
      ],
      "text/plain": [
       "    year  u.s_federal_voter_turnout_rate\n",
       "10  1980                            54.2\n",
       "11  1982                            42.0\n",
       "12  1984                            55.2\n",
       "13  1986                            38.1\n",
       "14  1988                            52.8"
      ]
     },
     "execution_count": 176,
     "metadata": {},
     "output_type": "execute_result"
    }
   ],
   "source": [
    "short_federal_df.head()"
   ]
  },
  {
   "cell_type": "code",
   "execution_count": 177,
   "id": "070dfae5",
   "metadata": {},
   "outputs": [
    {
     "name": "stdout",
     "output_type": "stream",
     "text": [
      "years\n",
      "________18_to_64_years_(%)\n",
      "________65+_years_(%)\n",
      "________married_couple_families_without_children_(%)\n",
      "________married_couple_families_with_children_(%)\n",
      "________persons_not_in_families/unrelated_individuals_(%)\n",
      "________male_householder,_no_spouse_present_with_children_(%)\n",
      "________female_householder,_no_spouse_present_with_children_(%)\n",
      "________white_(%)\n",
      "________black_(%)\n",
      "________hispanic_(%)\n",
      "________white,_non-hispanic_(%)\n",
      "________northeast_(%)\n",
      "________west_(%)\n",
      "________south_(%)\n",
      "________midwest_(%)\n",
      "________alabama_(%)\n",
      "________alaska_(%)\n",
      "________arizona_(%)\n",
      "________arkansas_(%)\n",
      "________california_(%)\n",
      "________colorado_(%)\n",
      "________connecticut_(%)\n",
      "________delaware_(%)\n",
      "________district_of_columbia_(%)\n",
      "________florida_(%)\n",
      "________georgia_(%)\n",
      "________hawaii_(%)\n",
      "________idaho_(%)\n",
      "________illinois_(%)\n",
      "________indiana_(%)\n",
      "________iowa_(%)\n",
      "________kansas_(%)\n",
      "________kentucky_(%)\n",
      "________louisiana_(%)\n",
      "________maine_(%)\n",
      "________maryland_(%)\n",
      "________massachusetts_(%)\n",
      "________michigan_(%)\n",
      "________minnesota_(%)\n",
      "________mississippi_(%)\n",
      "________missouri_(%)\n",
      "________montana_(%)\n",
      "________nebraska_(%)\n",
      "________nevada_(%)\n",
      "________new_hampshire_(%)\n",
      "________new_jersey_(%)\n",
      "________new_mexico_(%)\n",
      "________new_york_(%)\n",
      "________north_carolina_(%)\n",
      "________north_dakota_(%)\n",
      "________ohio_(%)\n",
      "________oklahoma_(%)\n",
      "________oregon_(%)\n",
      "________pennsylvania_(%)\n",
      "________rhode_island_(%)\n",
      "________south_carolina_(%)\n",
      "________south_dakota_(%)\n",
      "________tennessee_(%)\n",
      "________texas_(%)\n",
      "________utah_(%)\n",
      "________vermont_(%)\n",
      "________virginia_(%)\n",
      "________washington_(%)\n",
      "________west_virginia_(%)\n",
      "________wisconsin_(%)\n",
      "________wyoming_(%)\n",
      "18_to_64_change\n",
      "65+_change\n",
      "married_without_children_change\n",
      "married_with_children_change\n",
      "out_of_families_change\n",
      "single_father_change\n",
      "single_mother_change\n",
      "white_change\n",
      "black_change\n",
      "hispanic_change\n",
      "white_not_hispanic_change\n",
      "northeast_change\n",
      "west_change\n",
      "south_change\n",
      "midwest_change\n",
      "alaska_change\n",
      "alabama_change\n",
      "arizona_change\n",
      "arkansas_change\n",
      "california_change\n",
      "colorado_change\n",
      "connecticut_change\n",
      "delaware_change\n",
      "dc_change\n",
      "florida_change\n",
      "georgia_change\n",
      "hawaii_change\n",
      "idaho_change\n",
      "illinois_change\n",
      "indiana_change\n",
      "iowa_change\n",
      "kansas_change\n",
      "kentucky_change\n",
      "louisiana_change\n",
      "maine_change\n",
      "maryland_change\n",
      "massachusetts_change\n",
      "michigan_change\n",
      "minnesota_change\n",
      "mississippi_change\n",
      "missouri_change\n",
      "montana_change\n",
      "nebraska_change\n",
      "nevada_change\n",
      "new_hampshire_change\n",
      "new_jersey_change\n",
      "new_mexico_change\n",
      "new_york_change\n",
      "north_carolina_change\n",
      "north_dakota_change\n",
      "ohio_change\n",
      "oklahoma_change\n",
      "oregon_change\n",
      "pennsylvania_change\n",
      "rhode_island_change\n",
      "south_carolina_change\n",
      "south_dakota_change\n",
      "tennessee_change\n",
      "texas_change\n",
      "utah_change\n",
      "vermont_change\n",
      "virginia_change\n",
      "washington_change\n",
      "west_virginia_change\n",
      "wisconsin_change\n",
      "wyoming_change\n"
     ]
    }
   ],
   "source": [
    "for column in extra_poverty_stats_df.columns:\n",
    "    print(column)"
   ]
  },
  {
   "cell_type": "code",
   "execution_count": 178,
   "id": "5882edee",
   "metadata": {},
   "outputs": [],
   "source": [
    "extra_poverty_stats_df = extra_poverty_stats_df.rename(columns = {'years': 'year'})"
   ]
  },
  {
   "cell_type": "code",
   "execution_count": 179,
   "id": "1e71c4a1",
   "metadata": {},
   "outputs": [],
   "source": [
    "short_federal_vs_poverty_df = short_federal_df.merge(extra_poverty_stats_df, how='inner', on='year', left_on=None, right_on=None, left_index=False, right_index=False, sort=False, suffixes=('_x', '_y'), copy=None, indicator=False, validate=None)"
   ]
  },
  {
   "cell_type": "code",
   "execution_count": 180,
   "id": "202521ff",
   "metadata": {},
   "outputs": [],
   "source": [
    "short_federal_vs_poverty_df = short_federal_vs_poverty_df[['u.s_federal_voter_turnout_rate', '18_to_64_change', '65+_change', 'married_without_children_change', 'married_with_children_change', 'out_of_families_change', 'single_father_change', 'single_mother_change', 'white_change', 'black_change', 'hispanic_change', 'white_not_hispanic_change', 'northeast_change', 'west_change', 'south_change', 'midwest_change', 'alaska_change', 'alabama_change', 'arizona_change', 'arkansas_change', 'california_change', 'colorado_change', 'connecticut_change', 'delaware_change', 'dc_change', 'florida_change', 'georgia_change', 'hawaii_change', 'idaho_change', 'illinois_change', 'indiana_change', 'iowa_change', 'kansas_change', 'kentucky_change', 'louisiana_change', 'maine_change', 'maryland_change', 'massachusetts_change', 'michigan_change', 'minnesota_change', 'mississippi_change', 'missouri_change', 'montana_change', 'nebraska_change', 'nevada_change', 'new_hampshire_change', 'new_jersey_change', 'new_mexico_change', 'new_york_change', 'north_carolina_change', 'north_dakota_change', 'ohio_change', 'oklahoma_change', 'oregon_change', 'pennsylvania_change', 'rhode_island_change', 'south_carolina_change', 'south_dakota_change', 'tennessee_change', 'texas_change', 'utah_change', 'vermont_change', 'virginia_change', 'washington_change', 'west_virginia_change', 'wisconsin_change', 'wyoming_change']] "
   ]
  },
  {
   "cell_type": "code",
   "execution_count": 181,
   "id": "38eaa6c4",
   "metadata": {
    "scrolled": true
   },
   "outputs": [],
   "source": [
    "#sns.pairplot(short_federal_vs_poverty_df)"
   ]
  },
  {
   "cell_type": "code",
   "execution_count": 182,
   "id": "d68a601b",
   "metadata": {
    "scrolled": true
   },
   "outputs": [
    {
     "data": {
      "text/html": [
       "<div>\n",
       "<style scoped>\n",
       "    .dataframe tbody tr th:only-of-type {\n",
       "        vertical-align: middle;\n",
       "    }\n",
       "\n",
       "    .dataframe tbody tr th {\n",
       "        vertical-align: top;\n",
       "    }\n",
       "\n",
       "    .dataframe thead th {\n",
       "        text-align: right;\n",
       "    }\n",
       "</style>\n",
       "<table border=\"1\" class=\"dataframe\">\n",
       "  <thead>\n",
       "    <tr style=\"text-align: right;\">\n",
       "      <th></th>\n",
       "      <th>u.s_federal_voter_turnout_rate</th>\n",
       "      <th>18_to_64_change</th>\n",
       "      <th>65+_change</th>\n",
       "      <th>married_without_children_change</th>\n",
       "      <th>married_with_children_change</th>\n",
       "      <th>out_of_families_change</th>\n",
       "      <th>single_father_change</th>\n",
       "      <th>single_mother_change</th>\n",
       "      <th>white_change</th>\n",
       "      <th>black_change</th>\n",
       "      <th>...</th>\n",
       "      <th>south_dakota_change</th>\n",
       "      <th>tennessee_change</th>\n",
       "      <th>texas_change</th>\n",
       "      <th>utah_change</th>\n",
       "      <th>vermont_change</th>\n",
       "      <th>virginia_change</th>\n",
       "      <th>washington_change</th>\n",
       "      <th>west_virginia_change</th>\n",
       "      <th>wisconsin_change</th>\n",
       "      <th>wyoming_change</th>\n",
       "    </tr>\n",
       "  </thead>\n",
       "  <tbody>\n",
       "    <tr>\n",
       "      <th>0</th>\n",
       "      <td>54.2</td>\n",
       "      <td>0.019</td>\n",
       "      <td>-0.011</td>\n",
       "      <td>0.009</td>\n",
       "      <td>0.021</td>\n",
       "      <td>0.029</td>\n",
       "      <td>0.026</td>\n",
       "      <td>0.049</td>\n",
       "      <td>0.018</td>\n",
       "      <td>0.031</td>\n",
       "      <td>...</td>\n",
       "      <td>-0.020</td>\n",
       "      <td>0.040</td>\n",
       "      <td>0.005</td>\n",
       "      <td>0.045</td>\n",
       "      <td>0.009</td>\n",
       "      <td>0.001</td>\n",
       "      <td>0.002</td>\n",
       "      <td>0.096</td>\n",
       "      <td>0.010</td>\n",
       "      <td>0.016</td>\n",
       "    </tr>\n",
       "    <tr>\n",
       "      <th>1</th>\n",
       "      <td>42.0</td>\n",
       "      <td>-0.003</td>\n",
       "      <td>-0.022</td>\n",
       "      <td>-0.009</td>\n",
       "      <td>-0.004</td>\n",
       "      <td>-0.009</td>\n",
       "      <td>-0.025</td>\n",
       "      <td>-0.021</td>\n",
       "      <td>-0.005</td>\n",
       "      <td>-0.018</td>\n",
       "      <td>...</td>\n",
       "      <td>-0.023</td>\n",
       "      <td>-0.062</td>\n",
       "      <td>-0.005</td>\n",
       "      <td>-0.034</td>\n",
       "      <td>-0.003</td>\n",
       "      <td>-0.025</td>\n",
       "      <td>-0.016</td>\n",
       "      <td>-0.044</td>\n",
       "      <td>0.060</td>\n",
       "      <td>-0.011</td>\n",
       "    </tr>\n",
       "    <tr>\n",
       "      <th>2</th>\n",
       "      <td>55.2</td>\n",
       "      <td>-0.009</td>\n",
       "      <td>0.000</td>\n",
       "      <td>-0.004</td>\n",
       "      <td>-0.014</td>\n",
       "      <td>-0.014</td>\n",
       "      <td>-0.003</td>\n",
       "      <td>0.003</td>\n",
       "      <td>-0.005</td>\n",
       "      <td>-0.027</td>\n",
       "      <td>...</td>\n",
       "      <td>0.025</td>\n",
       "      <td>0.009</td>\n",
       "      <td>0.016</td>\n",
       "      <td>0.015</td>\n",
       "      <td>-0.016</td>\n",
       "      <td>-0.003</td>\n",
       "      <td>0.016</td>\n",
       "      <td>0.020</td>\n",
       "      <td>-0.048</td>\n",
       "      <td>0.037</td>\n",
       "    </tr>\n",
       "    <tr>\n",
       "      <th>3</th>\n",
       "      <td>38.1</td>\n",
       "      <td>-0.003</td>\n",
       "      <td>-0.004</td>\n",
       "      <td>-0.001</td>\n",
       "      <td>-0.008</td>\n",
       "      <td>-0.003</td>\n",
       "      <td>0.002</td>\n",
       "      <td>-0.013</td>\n",
       "      <td>-0.009</td>\n",
       "      <td>0.002</td>\n",
       "      <td>...</td>\n",
       "      <td>-0.028</td>\n",
       "      <td>-0.003</td>\n",
       "      <td>0.007</td>\n",
       "      <td>-0.028</td>\n",
       "      <td>-0.029</td>\n",
       "      <td>0.011</td>\n",
       "      <td>-0.042</td>\n",
       "      <td>-0.045</td>\n",
       "      <td>-0.029</td>\n",
       "      <td>-0.050</td>\n",
       "    </tr>\n",
       "    <tr>\n",
       "      <th>4</th>\n",
       "      <td>52.8</td>\n",
       "      <td>0.002</td>\n",
       "      <td>0.002</td>\n",
       "      <td>-0.003</td>\n",
       "      <td>0.006</td>\n",
       "      <td>-0.004</td>\n",
       "      <td>0.008</td>\n",
       "      <td>-0.002</td>\n",
       "      <td>0.006</td>\n",
       "      <td>0.006</td>\n",
       "      <td>...</td>\n",
       "      <td>-0.009</td>\n",
       "      <td>-0.011</td>\n",
       "      <td>-0.021</td>\n",
       "      <td>-0.016</td>\n",
       "      <td>0.028</td>\n",
       "      <td>0.003</td>\n",
       "      <td>0.002</td>\n",
       "      <td>0.002</td>\n",
       "      <td>0.015</td>\n",
       "      <td>0.014</td>\n",
       "    </tr>\n",
       "  </tbody>\n",
       "</table>\n",
       "<p>5 rows × 67 columns</p>\n",
       "</div>"
      ],
      "text/plain": [
       "   u.s_federal_voter_turnout_rate  18_to_64_change  65+_change  \\\n",
       "0                            54.2            0.019      -0.011   \n",
       "1                            42.0           -0.003      -0.022   \n",
       "2                            55.2           -0.009       0.000   \n",
       "3                            38.1           -0.003      -0.004   \n",
       "4                            52.8            0.002       0.002   \n",
       "\n",
       "   married_without_children_change  married_with_children_change  \\\n",
       "0                            0.009                         0.021   \n",
       "1                           -0.009                        -0.004   \n",
       "2                           -0.004                        -0.014   \n",
       "3                           -0.001                        -0.008   \n",
       "4                           -0.003                         0.006   \n",
       "\n",
       "   out_of_families_change  single_father_change  single_mother_change  \\\n",
       "0                   0.029                 0.026                 0.049   \n",
       "1                  -0.009                -0.025                -0.021   \n",
       "2                  -0.014                -0.003                 0.003   \n",
       "3                  -0.003                 0.002                -0.013   \n",
       "4                  -0.004                 0.008                -0.002   \n",
       "\n",
       "   white_change  black_change  ...  south_dakota_change  tennessee_change  \\\n",
       "0         0.018         0.031  ...               -0.020             0.040   \n",
       "1        -0.005        -0.018  ...               -0.023            -0.062   \n",
       "2        -0.005        -0.027  ...                0.025             0.009   \n",
       "3        -0.009         0.002  ...               -0.028            -0.003   \n",
       "4         0.006         0.006  ...               -0.009            -0.011   \n",
       "\n",
       "   texas_change  utah_change  vermont_change  virginia_change  \\\n",
       "0         0.005        0.045           0.009            0.001   \n",
       "1        -0.005       -0.034          -0.003           -0.025   \n",
       "2         0.016        0.015          -0.016           -0.003   \n",
       "3         0.007       -0.028          -0.029            0.011   \n",
       "4        -0.021       -0.016           0.028            0.003   \n",
       "\n",
       "   washington_change  west_virginia_change  wisconsin_change  wyoming_change  \n",
       "0              0.002                 0.096             0.010           0.016  \n",
       "1             -0.016                -0.044             0.060          -0.011  \n",
       "2              0.016                 0.020            -0.048           0.037  \n",
       "3             -0.042                -0.045            -0.029          -0.050  \n",
       "4              0.002                 0.002             0.015           0.014  \n",
       "\n",
       "[5 rows x 67 columns]"
      ]
     },
     "execution_count": 182,
     "metadata": {},
     "output_type": "execute_result"
    }
   ],
   "source": [
    "short_federal_vs_poverty_df.head()"
   ]
  },
  {
   "cell_type": "code",
   "execution_count": 183,
   "id": "c32f4442",
   "metadata": {},
   "outputs": [
    {
     "ename": "ValueError",
     "evalue": "The truth value of an array with more than one element is ambiguous. Use a.any() or a.all()",
     "output_type": "error",
     "traceback": [
      "\u001b[1;31m---------------------------------------------------------------------------\u001b[0m",
      "\u001b[1;31mValueError\u001b[0m                                Traceback (most recent call last)",
      "Cell \u001b[1;32mIn[183], line 3\u001b[0m\n\u001b[0;32m      1\u001b[0m plt\u001b[38;5;241m.\u001b[39mfigure(figsize\u001b[38;5;241m=\u001b[39m(\u001b[38;5;241m12\u001b[39m,\u001b[38;5;241m8\u001b[39m))\n\u001b[1;32m----> 3\u001b[0m ax \u001b[38;5;241m=\u001b[39m \u001b[43msns\u001b[49m\u001b[38;5;241;43m.\u001b[39;49m\u001b[43mheatmap\u001b[49m\u001b[43m(\u001b[49m\u001b[43mshort_federal_vs_poverty_df\u001b[49m\u001b[38;5;241;43m.\u001b[39;49m\u001b[43mcorr\u001b[49m\u001b[43m(\u001b[49m\u001b[43m)\u001b[49m\u001b[43m,\u001b[49m\u001b[43m \u001b[49m\u001b[43mannot\u001b[49m\u001b[38;5;241;43m=\u001b[39;49m\u001b[38;5;28;43;01mTrue\u001b[39;49;00m\u001b[43m,\u001b[49m\u001b[43m \u001b[49m\u001b[43mcmap\u001b[49m\u001b[38;5;241;43m=\u001b[39;49m\u001b[38;5;124;43m'\u001b[39;49m\u001b[38;5;124;43mYlGnBu\u001b[39;49m\u001b[38;5;124;43m'\u001b[39;49m\u001b[43m)\u001b[49m\n",
      "File \u001b[1;32m~\\anaconda3\\envs\\psycopg\\lib\\site-packages\\seaborn\\matrix.py:459\u001b[0m, in \u001b[0;36mheatmap\u001b[1;34m(data, vmin, vmax, cmap, center, robust, annot, fmt, annot_kws, linewidths, linecolor, cbar, cbar_kws, cbar_ax, square, xticklabels, yticklabels, mask, ax, **kwargs)\u001b[0m\n\u001b[0;32m    457\u001b[0m \u001b[38;5;28;01mif\u001b[39;00m square:\n\u001b[0;32m    458\u001b[0m     ax\u001b[38;5;241m.\u001b[39mset_aspect(\u001b[38;5;124m\"\u001b[39m\u001b[38;5;124mequal\u001b[39m\u001b[38;5;124m\"\u001b[39m)\n\u001b[1;32m--> 459\u001b[0m \u001b[43mplotter\u001b[49m\u001b[38;5;241;43m.\u001b[39;49m\u001b[43mplot\u001b[49m\u001b[43m(\u001b[49m\u001b[43max\u001b[49m\u001b[43m,\u001b[49m\u001b[43m \u001b[49m\u001b[43mcbar_ax\u001b[49m\u001b[43m,\u001b[49m\u001b[43m \u001b[49m\u001b[43mkwargs\u001b[49m\u001b[43m)\u001b[49m\n\u001b[0;32m    460\u001b[0m \u001b[38;5;28;01mreturn\u001b[39;00m ax\n",
      "File \u001b[1;32m~\\anaconda3\\envs\\psycopg\\lib\\site-packages\\seaborn\\matrix.py:352\u001b[0m, in \u001b[0;36m_HeatMapper.plot\u001b[1;34m(self, ax, cax, kws)\u001b[0m\n\u001b[0;32m    350\u001b[0m \u001b[38;5;66;03m# Annotate the cells with the formatted values\u001b[39;00m\n\u001b[0;32m    351\u001b[0m \u001b[38;5;28;01mif\u001b[39;00m \u001b[38;5;28mself\u001b[39m\u001b[38;5;241m.\u001b[39mannot:\n\u001b[1;32m--> 352\u001b[0m     \u001b[38;5;28;43mself\u001b[39;49m\u001b[38;5;241;43m.\u001b[39;49m\u001b[43m_annotate_heatmap\u001b[49m\u001b[43m(\u001b[49m\u001b[43max\u001b[49m\u001b[43m,\u001b[49m\u001b[43m \u001b[49m\u001b[43mmesh\u001b[49m\u001b[43m)\u001b[49m\n",
      "File \u001b[1;32m~\\anaconda3\\envs\\psycopg\\lib\\site-packages\\seaborn\\matrix.py:259\u001b[0m, in \u001b[0;36m_HeatMapper._annotate_heatmap\u001b[1;34m(self, ax, mesh)\u001b[0m\n\u001b[0;32m    257\u001b[0m \u001b[38;5;28;01mif\u001b[39;00m m \u001b[38;5;129;01mis\u001b[39;00m \u001b[38;5;129;01mnot\u001b[39;00m np\u001b[38;5;241m.\u001b[39mma\u001b[38;5;241m.\u001b[39mmasked:\n\u001b[0;32m    258\u001b[0m     lum \u001b[38;5;241m=\u001b[39m relative_luminance(color)\n\u001b[1;32m--> 259\u001b[0m     text_color \u001b[38;5;241m=\u001b[39m \u001b[38;5;124m\"\u001b[39m\u001b[38;5;124m.15\u001b[39m\u001b[38;5;124m\"\u001b[39m \u001b[38;5;28;01mif\u001b[39;00m \u001b[43mlum\u001b[49m\u001b[43m \u001b[49m\u001b[38;5;241;43m>\u001b[39;49m\u001b[43m \u001b[49m\u001b[38;5;241;43m.408\u001b[39;49m \u001b[38;5;28;01melse\u001b[39;00m \u001b[38;5;124m\"\u001b[39m\u001b[38;5;124mw\u001b[39m\u001b[38;5;124m\"\u001b[39m\n\u001b[0;32m    260\u001b[0m     annotation \u001b[38;5;241m=\u001b[39m (\u001b[38;5;124m\"\u001b[39m\u001b[38;5;124m{\u001b[39m\u001b[38;5;124m:\u001b[39m\u001b[38;5;124m\"\u001b[39m \u001b[38;5;241m+\u001b[39m \u001b[38;5;28mself\u001b[39m\u001b[38;5;241m.\u001b[39mfmt \u001b[38;5;241m+\u001b[39m \u001b[38;5;124m\"\u001b[39m\u001b[38;5;124m}\u001b[39m\u001b[38;5;124m\"\u001b[39m)\u001b[38;5;241m.\u001b[39mformat(val)\n\u001b[0;32m    261\u001b[0m     text_kwargs \u001b[38;5;241m=\u001b[39m \u001b[38;5;28mdict\u001b[39m(color\u001b[38;5;241m=\u001b[39mtext_color, ha\u001b[38;5;241m=\u001b[39m\u001b[38;5;124m\"\u001b[39m\u001b[38;5;124mcenter\u001b[39m\u001b[38;5;124m\"\u001b[39m, va\u001b[38;5;241m=\u001b[39m\u001b[38;5;124m\"\u001b[39m\u001b[38;5;124mcenter\u001b[39m\u001b[38;5;124m\"\u001b[39m)\n",
      "\u001b[1;31mValueError\u001b[0m: The truth value of an array with more than one element is ambiguous. Use a.any() or a.all()"
     ]
    },
    {
     "data": {
      "image/png": "[encoded data removed]",
      "text/plain": [
       "<Figure size 1200x800 with 2 Axes>"
      ]
     },
     "metadata": {},
     "output_type": "display_data"
    }
   ],
   "source": [
    "plt.figure(figsize=(12,8))\n",
    "\n",
    "ax = sns.heatmap(short_federal_vs_poverty_df.corr(), annot=True, cmap='YlGnBu')"
   ]
  },
  {
   "cell_type": "code",
   "execution_count": 198,
   "id": "e9706a08",
   "metadata": {},
   "outputs": [
    {
     "name": "stdout",
     "output_type": "stream",
     "text": [
      "<class 'pandas.core.frame.DataFrame'>\n",
      "RangeIndex: 16 entries, 0 to 15\n",
      "Data columns (total 4 columns):\n",
      " #   Column                                       Non-Null Count  Dtype  \n",
      "---  ------                                       --------------  -----  \n",
      " 0   year                                         16 non-null     int64  \n",
      " 1   united_states_presidential_vep_turnout_rate  16 non-null     float64\n",
      " 2   year.1                                       16 non-null     int64  \n",
      " 3   united_states_vep_midterm_turnout_rate       16 non-null     float64\n",
      "dtypes: float64(2), int64(2)\n",
      "memory usage: 640.0 bytes\n"
     ]
    }
   ],
   "source": [
    "presidential_vs_midterm_df.info()"
   ]
  },
  {
   "cell_type": "code",
   "execution_count": 184,
   "id": "cce35307",
   "metadata": {},
   "outputs": [
    {
     "data": {
      "text/plain": [
       "<Axes: xlabel='u.s_federal_voter_turnout_rate', ylabel='alaska_change'>"
      ]
     },
     "execution_count": 184,
     "metadata": {},
     "output_type": "execute_result"
    },
    {
     "data": {
      "image/png": "[encoded data removed]",
      "text/plain": [
       "<Figure size 640x480 with 1 Axes>"
      ]
     },
     "metadata": {},
     "output_type": "display_data"
    }
   ],
   "source": [
    "sns.scatterplot(x=short_federal_vs_poverty_df['u.s_federal_voter_turnout_rate'], y=short_federal_vsb_poverty_df['alaska_change'])"
   ]
  },
  {
   "cell_type": "code",
   "execution_count": 197,
   "id": "cd866479",
   "metadata": {},
   "outputs": [
    {
     "data": {
      "text/plain": [
       "<Axes: xlabel='united_states_presidential_vep_turnout_rate', ylabel='alaska_change'>"
      ]
     },
     "execution_count": 197,
     "metadata": {},
     "output_type": "execute_result"
    },
    {
     "data": {
      "image/png": "[encoded data removed]",
      "text/plain": [
       "<Figure size 640x480 with 1 Axes>"
      ]
     },
     "metadata": {},
     "output_type": "display_data"
    }
   ],
   "source": [
    "sns.scatterplot(x=presidential_vs_midterm_df['united_states_presidential_vep_turnout_rate'], y=short_federal_vs_poverty_df['alaska_change'])"
   ]
  },
  {
   "cell_type": "code",
   "execution_count": 200,
   "id": "98a0730e",
   "metadata": {},
   "outputs": [
    {
     "data": {
      "text/plain": [
       "<Axes: xlabel='united_states_vep_midterm_turnout_rate', ylabel='alaska_change'>"
      ]
     },
     "execution_count": 200,
     "metadata": {},
     "output_type": "execute_result"
    },
    {
     "data": {
      "image/png": "[encoded data removed]",
      "text/plain": [
       "<Figure size 640x480 with 1 Axes>"
      ]
     },
     "metadata": {},
     "output_type": "display_data"
    }
   ],
   "source": [
    "sns.scatterplot(x=presidential_vs_midterm_df['united_states_vep_midterm_turnout_rate'], y=short_federal_vs_poverty_df['alaska_change'])"
   ]
  },
  {
   "cell_type": "code",
   "execution_count": 185,
   "id": "2aa4f47f",
   "metadata": {},
   "outputs": [
    {
     "data": {
      "text/plain": [
       "<Axes: xlabel='u.s_federal_voter_turnout_rate', ylabel='west_virginia_change'>"
      ]
     },
     "execution_count": 185,
     "metadata": {},
     "output_type": "execute_result"
    },
    {
     "data": {
      "image/png": "[encoded data removed]",
      "text/plain": [
       "<Figure size 640x480 with 1 Axes>"
      ]
     },
     "metadata": {},
     "output_type": "display_data"
    }
   ],
   "source": [
    "sns.scatterplot(x=short_federal_vs_poverty_df['u.s_federal_voter_turnout_rate'], y=short_federal_vs_poverty_df['west_virginia_change'])"
   ]
  },
  {
   "cell_type": "code",
   "execution_count": 186,
   "id": "f34b6ad8",
   "metadata": {},
   "outputs": [
    {
     "data": {
      "text/plain": [
       "<Axes: xlabel='u.s_federal_voter_turnout_rate', ylabel='utah_change'>"
      ]
     },
     "execution_count": 186,
     "metadata": {},
     "output_type": "execute_result"
    },
    {
     "data": {
      "image/png": "[encoded data removed]",
      "text/plain": [
       "<Figure size 640x480 with 1 Axes>"
      ]
     },
     "metadata": {},
     "output_type": "display_data"
    }
   ],
   "source": [
    "sns.scatterplot(x=short_federal_vs_poverty_df['u.s_federal_voter_turnout_rate'], y=short_federal_vs_poverty_df['utah_change'])"
   ]
  },
  {
   "cell_type": "code",
   "execution_count": 187,
   "id": "edd5c651",
   "metadata": {},
   "outputs": [],
   "source": [
    "y = short_federal_vs_poverty_df['alaska_change']\n",
    "x1 = short_federal_vs_poverty_df['u.s_federal_voter_turnout_rate']"
   ]
  },
  {
   "cell_type": "code",
   "execution_count": 188,
   "id": "b2d3bf6f",
   "metadata": {},
   "outputs": [
    {
     "data": {
      "image/png": "[encoded data removed]",
      "text/plain": [
       "<Figure size 640x480 with 1 Axes>"
      ]
     },
     "metadata": {},
     "output_type": "display_data"
    }
   ],
   "source": [
    "plt.scatter(x1,y)\n",
    "plt.xlabel('Federal Turnout Rate', fontsize = 20)\n",
    "plt.ylabel('Alaska Poverty Change', fontsize = 20)\n",
    "plt.show()"
   ]
  },
  {
   "cell_type": "code",
   "execution_count": 189,
   "id": "517d4fc4",
   "metadata": {},
   "outputs": [
    {
     "name": "stderr",
     "output_type": "stream",
     "text": [
      "C:\\Users\\isaac\\anaconda3\\envs\\psycopg\\lib\\site-packages\\scipy\\stats\\_stats_py.py:1736: UserWarning: kurtosistest only valid for n>=20 ... continuing anyway, n=19\n",
      "  warnings.warn(\"kurtosistest only valid for n>=20 ... continuing \"\n"
     ]
    },
    {
     "data": {
      "text/html": [
       "<table class=\"simpletable\">\n",
       "<caption>OLS Regression Results</caption>\n",
       "<tr>\n",
       "  <th>Dep. Variable:</th>      <td>alaska_change</td>  <th>  R-squared:         </th> <td>   0.452</td>\n",
       "</tr>\n",
       "<tr>\n",
       "  <th>Model:</th>                   <td>OLS</td>       <th>  Adj. R-squared:    </th> <td>   0.420</td>\n",
       "</tr>\n",
       "<tr>\n",
       "  <th>Method:</th>             <td>Least Squares</td>  <th>  F-statistic:       </th> <td>   14.04</td>\n",
       "</tr>\n",
       "<tr>\n",
       "  <th>Date:</th>             <td>Sun, 11 Jun 2023</td> <th>  Prob (F-statistic):</th>  <td>0.00160</td>\n",
       "</tr>\n",
       "<tr>\n",
       "  <th>Time:</th>                 <td>14:14:46</td>     <th>  Log-Likelihood:    </th> <td>  57.821</td>\n",
       "</tr>\n",
       "<tr>\n",
       "  <th>No. Observations:</th>      <td>    19</td>      <th>  AIC:               </th> <td>  -111.6</td>\n",
       "</tr>\n",
       "<tr>\n",
       "  <th>Df Residuals:</th>          <td>    17</td>      <th>  BIC:               </th> <td>  -109.8</td>\n",
       "</tr>\n",
       "<tr>\n",
       "  <th>Df Model:</th>              <td>     1</td>      <th>                     </th>     <td> </td>   \n",
       "</tr>\n",
       "<tr>\n",
       "  <th>Covariance Type:</th>      <td>nonrobust</td>    <th>                     </th>     <td> </td>   \n",
       "</tr>\n",
       "</table>\n",
       "<table class=\"simpletable\">\n",
       "<tr>\n",
       "                 <td></td>                   <th>coef</th>     <th>std err</th>      <th>t</th>      <th>P>|t|</th>  <th>[0.025</th>    <th>0.975]</th>  \n",
       "</tr>\n",
       "<tr>\n",
       "  <th>const</th>                          <td>   -0.0548</td> <td>    0.015</td> <td>   -3.565</td> <td> 0.002</td> <td>   -0.087</td> <td>   -0.022</td>\n",
       "</tr>\n",
       "<tr>\n",
       "  <th>u.s_federal_voter_turnout_rate</th> <td>    0.0012</td> <td>    0.000</td> <td>    3.747</td> <td> 0.002</td> <td>    0.001</td> <td>    0.002</td>\n",
       "</tr>\n",
       "</table>\n",
       "<table class=\"simpletable\">\n",
       "<tr>\n",
       "  <th>Omnibus:</th>       <td> 0.543</td> <th>  Durbin-Watson:     </th> <td>   2.573</td>\n",
       "</tr>\n",
       "<tr>\n",
       "  <th>Prob(Omnibus):</th> <td> 0.762</td> <th>  Jarque-Bera (JB):  </th> <td>   0.477</td>\n",
       "</tr>\n",
       "<tr>\n",
       "  <th>Skew:</th>          <td> 0.335</td> <th>  Prob(JB):          </th> <td>   0.788</td>\n",
       "</tr>\n",
       "<tr>\n",
       "  <th>Kurtosis:</th>      <td> 2.606</td> <th>  Cond. No.          </th> <td>    271.</td>\n",
       "</tr>\n",
       "</table><br/><br/>Notes:<br/>[1] Standard Errors assume that the covariance matrix of the errors is correctly specified."
      ],
      "text/plain": [
       "<class 'statsmodels.iolib.summary.Summary'>\n",
       "\"\"\"\n",
       "                            OLS Regression Results                            \n",
       "==============================================================================\n",
       "Dep. Variable:          alaska_change   R-squared:                       0.452\n",
       "Model:                            OLS   Adj. R-squared:                  0.420\n",
       "Method:                 Least Squares   F-statistic:                     14.04\n",
       "Date:                Sun, 11 Jun 2023   Prob (F-statistic):            0.00160\n",
       "Time:                        14:14:46   Log-Likelihood:                 57.821\n",
       "No. Observations:                  19   AIC:                            -111.6\n",
       "Df Residuals:                      17   BIC:                            -109.8\n",
       "Df Model:                           1                                         \n",
       "Covariance Type:            nonrobust                                         \n",
       "==================================================================================================\n",
       "                                     coef    std err          t      P>|t|      [0.025      0.975]\n",
       "--------------------------------------------------------------------------------------------------\n",
       "const                             -0.0548      0.015     -3.565      0.002      -0.087      -0.022\n",
       "u.s_federal_voter_turnout_rate     0.0012      0.000      3.747      0.002       0.001       0.002\n",
       "==============================================================================\n",
       "Omnibus:                        0.543   Durbin-Watson:                   2.573\n",
       "Prob(Omnibus):                  0.762   Jarque-Bera (JB):                0.477\n",
       "Skew:                           0.335   Prob(JB):                        0.788\n",
       "Kurtosis:                       2.606   Cond. No.                         271.\n",
       "==============================================================================\n",
       "\n",
       "Notes:\n",
       "[1] Standard Errors assume that the covariance matrix of the errors is correctly specified.\n",
       "\"\"\""
      ]
     },
     "execution_count": 189,
     "metadata": {},
     "output_type": "execute_result"
    }
   ],
   "source": [
    "x = sm.add_constant(x1)\n",
    "results = sm.OLS(y,x).fit()\n",
    "results.summary()"
   ]
  },
  {
   "cell_type": "code",
   "execution_count": 190,
   "id": "f1396d58",
   "metadata": {},
   "outputs": [
    {
     "data": {
      "image/png": "[encoded data removed]",
      "text/plain": [
       "<Figure size 640x480 with 1 Axes>"
      ]
     },
     "metadata": {},
     "output_type": "display_data"
    }
   ],
   "source": [
    "plt.scatter(x1,y)\n",
    "yhat = 0.0012*x1 - 0.0548\n",
    "fig = plt.plot(x1,yhat, lw=4, c='orange', label ='regression line')\n",
    "plt.xlabel('Federal Turnout Rate', fontsize = 20)\n",
    "plt.ylabel('Alaska Poverty Change', fontsize = 20)\n",
    "plt.show()"
   ]
  },
  {
   "cell_type": "code",
   "execution_count": null,
   "id": "3b9ce978",
   "metadata": {},
   "outputs": [],
   "source": [
    "short_federal_vs_poverty_df.head()"
   ]
  },
  {
   "cell_type": "code",
   "execution_count": null,
   "id": "3c406bf9",
   "metadata": {},
   "outputs": [],
   "source": [
    "sns.lineplot(x=short_federal_vs_poverty_df['u.s_federal_voter_turnout_rate'], y=short_federal_vs_poverty_df['alaska_change'])"
   ]
  }
 ],
 "metadata": {
  "kernelspec": {
   "display_name": "Python 3 (ipykernel)",
   "language": "python",
   "name": "python3"
  },
  "language_info": {
   "codemirror_mode": {
    "name": "ipython",
    "version": 3
   },
   "file_extension": ".py",
   "mimetype": "text/x-python",
   "name": "python",
   "nbconvert_exporter": "python",
   "pygments_lexer": "ipython3",
   "version": "3.9.16"
  }
 },
 "nbformat": 4,
 "nbformat_minor": 5
}
